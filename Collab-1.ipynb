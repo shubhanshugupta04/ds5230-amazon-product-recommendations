{
  "cells": [
    {
      "cell_type": "code",
      "source": [
        "import pandas as pd\n",
        "from collections import Counter\n",
        "\n",
        "from surprise import Dataset\n",
        "from surprise import Reader\n",
        "\n",
        "import matplotlib.pyplot as plt\n",
        "%matplotlib inline\n",
        "import seaborn as sns"
      ],
      "outputs": [],
      "execution_count": 1,
      "metadata": {}
    },
    {
      "cell_type": "code",
      "source": [
        "df = pd.read_csv('Dataset/Small_Electronics_subset.csv')"
      ],
      "outputs": [],
      "execution_count": 2,
      "metadata": {}
    },
    {
      "cell_type": "code",
      "source": [
        "df.shape"
      ],
      "outputs": [
        {
          "output_type": "execute_result",
          "execution_count": 3,
          "data": {
            "text/plain": "(6738665, 5)"
          },
          "metadata": {}
        }
      ],
      "execution_count": 3,
      "metadata": {}
    },
    {
      "cell_type": "code",
      "source": [
        "# Remove duplicates:"
      ],
      "outputs": [],
      "execution_count": 4,
      "metadata": {}
    },
    {
      "cell_type": "code",
      "source": [
        "df.drop_duplicates(inplace = True)"
      ],
      "outputs": [],
      "execution_count": 5,
      "metadata": {}
    },
    {
      "cell_type": "code",
      "source": [
        "df.shape"
      ],
      "outputs": [
        {
          "output_type": "execute_result",
          "execution_count": 6,
          "data": {
            "text/plain": "(6532419, 5)"
          },
          "metadata": {}
        }
      ],
      "execution_count": 6,
      "metadata": {}
    },
    {
      "cell_type": "code",
      "source": [
        "df.head(10)"
      ],
      "outputs": [
        {
          "output_type": "execute_result",
          "execution_count": 7,
          "data": {
            "text/html": "<div>\n<style scoped>\n    .dataframe tbody tr th:only-of-type {\n        vertical-align: middle;\n    }\n\n    .dataframe tbody tr th {\n        vertical-align: top;\n    }\n\n    .dataframe thead th {\n        text-align: right;\n    }\n</style>\n<table border=\"1\" class=\"dataframe\">\n  <thead>\n    <tr style=\"text-align: right;\">\n      <th></th>\n      <th>asin</th>\n      <th>overall</th>\n      <th>reviewerID</th>\n      <th>reviewerName</th>\n      <th>verified</th>\n    </tr>\n  </thead>\n  <tbody>\n    <tr>\n      <th>0</th>\n      <td>0151004714</td>\n      <td>5.0</td>\n      <td>AAP7PPBU72QFM</td>\n      <td>D. C. Carrad</td>\n      <td>True</td>\n    </tr>\n    <tr>\n      <th>1</th>\n      <td>0151004714</td>\n      <td>3.0</td>\n      <td>A2E168DTVGE6SV</td>\n      <td>Evy</td>\n      <td>True</td>\n    </tr>\n    <tr>\n      <th>2</th>\n      <td>0151004714</td>\n      <td>5.0</td>\n      <td>A1ER5AYS3FQ9O3</td>\n      <td>Kcorn</td>\n      <td>False</td>\n    </tr>\n    <tr>\n      <th>3</th>\n      <td>0151004714</td>\n      <td>5.0</td>\n      <td>A1T17LMQABMBN5</td>\n      <td>Caf Girl Writes</td>\n      <td>False</td>\n    </tr>\n    <tr>\n      <th>4</th>\n      <td>0151004714</td>\n      <td>3.0</td>\n      <td>A3QHJ0FXK33OBE</td>\n      <td>W. Shane Schmidt</td>\n      <td>True</td>\n    </tr>\n    <tr>\n      <th>5</th>\n      <td>0380709473</td>\n      <td>4.0</td>\n      <td>A3IYSOTP3HA77N</td>\n      <td>B. Marks</td>\n      <td>True</td>\n    </tr>\n    <tr>\n      <th>6</th>\n      <td>0380709473</td>\n      <td>5.0</td>\n      <td>A11SXV34PZUQ5E</td>\n      <td>Tom C.</td>\n      <td>True</td>\n    </tr>\n    <tr>\n      <th>7</th>\n      <td>0380709473</td>\n      <td>5.0</td>\n      <td>A2AUQM1HT2D5T8</td>\n      <td>ema</td>\n      <td>True</td>\n    </tr>\n    <tr>\n      <th>8</th>\n      <td>0380709473</td>\n      <td>5.0</td>\n      <td>A3UD8JRWLX6SRX</td>\n      <td>Michael O.</td>\n      <td>True</td>\n    </tr>\n    <tr>\n      <th>9</th>\n      <td>0380709473</td>\n      <td>4.0</td>\n      <td>A3MV1KKHX51FYT</td>\n      <td>Acute Observer</td>\n      <td>False</td>\n    </tr>\n  </tbody>\n</table>\n</div>",
            "text/plain": "         asin  overall      reviewerID      reviewerName  verified\n0  0151004714      5.0   AAP7PPBU72QFM      D. C. Carrad      True\n1  0151004714      3.0  A2E168DTVGE6SV               Evy      True\n2  0151004714      5.0  A1ER5AYS3FQ9O3             Kcorn     False\n3  0151004714      5.0  A1T17LMQABMBN5   Caf Girl Writes     False\n4  0151004714      3.0  A3QHJ0FXK33OBE  W. Shane Schmidt      True\n5  0380709473      4.0  A3IYSOTP3HA77N          B. Marks      True\n6  0380709473      5.0  A11SXV34PZUQ5E            Tom C.      True\n7  0380709473      5.0  A2AUQM1HT2D5T8               ema      True\n8  0380709473      5.0  A3UD8JRWLX6SRX        Michael O.      True\n9  0380709473      4.0  A3MV1KKHX51FYT    Acute Observer     False"
          },
          "metadata": {}
        }
      ],
      "execution_count": 7,
      "metadata": {}
    },
    {
      "cell_type": "code",
      "source": [
        "# Number of Products\n",
        "\n",
        "df['asin'].nunique()"
      ],
      "outputs": [
        {
          "output_type": "execute_result",
          "execution_count": 8,
          "data": {
            "text/plain": "160052"
          },
          "metadata": {}
        }
      ],
      "execution_count": 8,
      "metadata": {}
    },
    {
      "cell_type": "code",
      "source": [
        "# Number of Users\n",
        "\n",
        "df['reviewerID'].nunique()"
      ],
      "outputs": [
        {
          "output_type": "execute_result",
          "execution_count": 9,
          "data": {
            "text/plain": "728663"
          },
          "metadata": {}
        }
      ],
      "execution_count": 9,
      "metadata": {}
    },
    {
      "cell_type": "code",
      "source": [
        "# Number of UnVerified reviews\n",
        "\n",
        "df[df['verified'] == False]['asin'].count()"
      ],
      "outputs": [
        {
          "output_type": "execute_result",
          "execution_count": 10,
          "data": {
            "text/plain": "671674"
          },
          "metadata": {}
        }
      ],
      "execution_count": 10,
      "metadata": {}
    },
    {
      "cell_type": "code",
      "source": [
        "df.to_csv('Small_Electronics_subset_removed_duplicates.csv',index=False)"
      ],
      "outputs": [],
      "execution_count": 11,
      "metadata": {}
    },
    {
      "cell_type": "code",
      "source": [],
      "outputs": [],
      "execution_count": null,
      "metadata": {}
    },
    {
      "cell_type": "code",
      "source": [
        "# Average rating and total reviews per product"
      ],
      "outputs": [],
      "execution_count": 12,
      "metadata": {}
    },
    {
      "cell_type": "code",
      "source": [
        "df1 = pd.DataFrame(df.groupby(['asin']).count()['overall'])"
      ],
      "outputs": [],
      "execution_count": 13,
      "metadata": {}
    },
    {
      "cell_type": "code",
      "source": [
        "df1['avg_rating'] = list(df.groupby(['asin']).mean()['overall'])"
      ],
      "outputs": [],
      "execution_count": 14,
      "metadata": {}
    },
    {
      "cell_type": "code",
      "source": [
        "df1.columns = ['counts','avg_rating']"
      ],
      "outputs": [],
      "execution_count": 15,
      "metadata": {}
    },
    {
      "cell_type": "code",
      "source": [
        "df1.head()"
      ],
      "outputs": [
        {
          "output_type": "execute_result",
          "execution_count": 16,
          "data": {
            "text/html": "<div>\n<style scoped>\n    .dataframe tbody tr th:only-of-type {\n        vertical-align: middle;\n    }\n\n    .dataframe tbody tr th {\n        vertical-align: top;\n    }\n\n    .dataframe thead th {\n        text-align: right;\n    }\n</style>\n<table border=\"1\" class=\"dataframe\">\n  <thead>\n    <tr style=\"text-align: right;\">\n      <th></th>\n      <th>counts</th>\n      <th>avg_rating</th>\n    </tr>\n    <tr>\n      <th>asin</th>\n      <th></th>\n      <th></th>\n    </tr>\n  </thead>\n  <tbody>\n    <tr>\n      <th>0101635370</th>\n      <td>32</td>\n      <td>3.218750</td>\n    </tr>\n    <tr>\n      <th>0151004714</th>\n      <td>5</td>\n      <td>4.200000</td>\n    </tr>\n    <tr>\n      <th>0380709473</th>\n      <td>6</td>\n      <td>4.500000</td>\n    </tr>\n    <tr>\n      <th>0446697192</th>\n      <td>11</td>\n      <td>3.818182</td>\n    </tr>\n    <tr>\n      <th>0511189877</th>\n      <td>36</td>\n      <td>4.472222</td>\n    </tr>\n  </tbody>\n</table>\n</div>",
            "text/plain": "            counts  avg_rating\nasin                          \n0101635370      32    3.218750\n0151004714       5    4.200000\n0380709473       6    4.500000\n0446697192      11    3.818182\n0511189877      36    4.472222"
          },
          "metadata": {}
        }
      ],
      "execution_count": 16,
      "metadata": {}
    },
    {
      "cell_type": "code",
      "source": [
        "l = df1.shape[0]\n",
        "c1 = 0\n",
        "c2 = 0\n",
        "c3 = 0\n",
        "c4 = 0\n",
        "c5 = 0\n",
        "for i in range(l):\n",
        "    if df1.iloc[i,1]<=1:\n",
        "        c1 += 1\n",
        "    elif df1.iloc[i,1]>1 and df1.iloc[i,1]<=2:\n",
        "        c2 += 1\n",
        "    elif df1.iloc[i,1]>2 and df1.iloc[i,1]<=3:\n",
        "        c3 += 1\n",
        "    elif df1.iloc[i,1]>3 and df1.iloc[i,1]<=4:\n",
        "        c4 += 1\n",
        "    elif df1.iloc[i,1]>4 and df1.iloc[i,1]<=5:\n",
        "        c5 += 1\n",
        "ll = [c1,c2,c3,c4,c5]"
      ],
      "outputs": [],
      "execution_count": 17,
      "metadata": {}
    },
    {
      "cell_type": "code",
      "source": [
        "ll"
      ],
      "outputs": [
        {
          "output_type": "execute_result",
          "execution_count": 18,
          "data": {
            "text/plain": "[28, 602, 7090, 47476, 104856]"
          },
          "metadata": {}
        }
      ],
      "execution_count": 18,
      "metadata": {}
    },
    {
      "cell_type": "code",
      "source": [
        "fig = plt.figure()\n",
        "ax = fig.add_axes([0,0,1,1])\n",
        "rate = ['0-1', '1-2', '2-3', '3-4', '4-5']\n",
        "ax.bar(rate,ll)\n",
        "ax.set_ylabel(\"Number of Products\")\n",
        "ax.set_xlabel(\"Ratings\")\n",
        "ax.set_title('Count of products in range of ratings')\n",
        "plt.show()"
      ],
      "outputs": [
        {
          "output_type": "display_data",
          "data": {
            "image/png": "[encoded data removed]",
            "text/plain": "<Figure size 432x288 with 1 Axes>"
          },
          "metadata": {
            "needs_background": "light"
          }
        }
      ],
      "execution_count": 19,
      "metadata": {}
    },
    {
      "cell_type": "code",
      "source": [],
      "outputs": [],
      "execution_count": null,
      "metadata": {}
    },
    {
      "cell_type": "code",
      "source": [
        "# Total review given by per user "
      ],
      "outputs": [],
      "execution_count": 20,
      "metadata": {}
    },
    {
      "cell_type": "code",
      "source": [
        "df2 = pd.DataFrame(df.groupby(['reviewerID']).count()['asin'])"
      ],
      "outputs": [],
      "execution_count": 21,
      "metadata": {}
    },
    {
      "cell_type": "code",
      "source": [
        "df2['avg_rating'] = pd.DataFrame(df.groupby(['reviewerID']).mean()['overall'])"
      ],
      "outputs": [],
      "execution_count": 22,
      "metadata": {}
    },
    {
      "cell_type": "code",
      "source": [
        "df2.columns = ['counts','avg_rating']"
      ],
      "outputs": [],
      "execution_count": 23,
      "metadata": {}
    },
    {
      "cell_type": "code",
      "source": [
        "df2.head()"
      ],
      "outputs": [
        {
          "output_type": "execute_result",
          "execution_count": 24,
          "data": {
            "text/html": "<div>\n<style scoped>\n    .dataframe tbody tr th:only-of-type {\n        vertical-align: middle;\n    }\n\n    .dataframe tbody tr th {\n        vertical-align: top;\n    }\n\n    .dataframe thead th {\n        text-align: right;\n    }\n</style>\n<table border=\"1\" class=\"dataframe\">\n  <thead>\n    <tr style=\"text-align: right;\">\n      <th></th>\n      <th>counts</th>\n      <th>avg_rating</th>\n    </tr>\n    <tr>\n      <th>reviewerID</th>\n      <th></th>\n      <th></th>\n    </tr>\n  </thead>\n  <tbody>\n    <tr>\n      <th>A0001528BGUBOEVR6T5U</th>\n      <td>5</td>\n      <td>4.400000</td>\n    </tr>\n    <tr>\n      <th>A0003214FKMKJE0PCW3D</th>\n      <td>7</td>\n      <td>5.000000</td>\n    </tr>\n    <tr>\n      <th>A0008898NGEXICE0F146</th>\n      <td>7</td>\n      <td>5.000000</td>\n    </tr>\n    <tr>\n      <th>A00101847G3FJTWYGNQA</th>\n      <td>11</td>\n      <td>4.545455</td>\n    </tr>\n    <tr>\n      <th>A0014476IZYE2N3XTK4K</th>\n      <td>4</td>\n      <td>2.750000</td>\n    </tr>\n  </tbody>\n</table>\n</div>",
            "text/plain": "                      counts  avg_rating\nreviewerID                              \nA0001528BGUBOEVR6T5U       5    4.400000\nA0003214FKMKJE0PCW3D       7    5.000000\nA0008898NGEXICE0F146       7    5.000000\nA00101847G3FJTWYGNQA      11    4.545455\nA0014476IZYE2N3XTK4K       4    2.750000"
          },
          "metadata": {}
        }
      ],
      "execution_count": 24,
      "metadata": {}
    },
    {
      "cell_type": "code",
      "source": [
        "l = df2.shape[0]\n",
        "c1 = 0\n",
        "c2 = 0\n",
        "c3 = 0\n",
        "c4 = 0\n",
        "c5 = 0\n",
        "for i in range(l):\n",
        "    if df2.iloc[i,1]<=1:\n",
        "        c1 += 1\n",
        "    elif df2.iloc[i,1]>1 and df2.iloc[i,1]<=2:\n",
        "        c2 += 1\n",
        "    elif df2.iloc[i,1]>2 and df2.iloc[i,1]<=3:\n",
        "        c3 += 1\n",
        "    elif df2.iloc[i,1]>3 and df2.iloc[i,1]<=4:\n",
        "        c4 += 1\n",
        "    elif df2.iloc[i,1]>4 and df2.iloc[i,1]<=5:\n",
        "        c5 += 1\n",
        "ll = [c1,c2,c3,c4,c5]"
      ],
      "outputs": [],
      "execution_count": 25,
      "metadata": {}
    },
    {
      "cell_type": "code",
      "source": [
        "ll"
      ],
      "outputs": [
        {
          "output_type": "execute_result",
          "execution_count": 26,
          "data": {
            "text/plain": "[1020, 7749, 42823, 187921, 489150]"
          },
          "metadata": {}
        }
      ],
      "execution_count": 26,
      "metadata": {}
    },
    {
      "cell_type": "code",
      "source": [
        "fig = plt.figure()\n",
        "ax = fig.add_axes([0,0,1,1])\n",
        "rate = ['0-1', '1-2', '2-3', '3-4', '4-5']\n",
        "ax.bar(rate,ll)\n",
        "ax.set_ylabel(\"Number of Users\")\n",
        "ax.set_xlabel(\"Ratings\")\n",
        "ax.set_title('Average rating given by Users')\n",
        "plt.show()"
      ],
      "outputs": [
        {
          "output_type": "display_data",
          "data": {
            "image/png": "[encoded data removed]",
            "text/plain": "<Figure size 432x288 with 1 Axes>"
          },
          "metadata": {
            "needs_background": "light"
          }
        }
      ],
      "execution_count": 27,
      "metadata": {
        "scrolled": true
      }
    },
    {
      "cell_type": "code",
      "source": [],
      "outputs": [],
      "execution_count": null,
      "metadata": {}
    },
    {
      "cell_type": "code",
      "source": [
        "Counter(df['asin']).most_common()"
      ],
      "outputs": [
        {
          "output_type": "execute_result",
          "execution_count": 28,
          "data": {
            "text/plain": "[('B003L1ZYYW', 8563),\n ('B0019HL8Q8', 7656),\n ('B0019EHU8G', 7302),\n ('B00M55C0NS', 6218),\n ('B00BWF5U0M', 6179),\n ('B00DIF2BO2', 6174),\n ('B000BQ7GW8', 5961),\n ('B00IVPU7AO', 5952),\n ('B00L0YLRUW', 5696),\n ('B0043T7FXE', 5449),\n ('B010OYASRG', 5353),\n ('B006W8U2MU', 5102),\n ('B000HPV3RW', 5101),\n ('B00E055H5O', 5057),\n ('B003MTTJOY', 4823),\n ('B005DKZTMG', 4715),\n ('B0006BB9MG', 4687),\n ('B00BP5KOPA', 4625),\n ('B00004ZCJI', 4521),\n ('B00004ZCJJ', 4521),\n ('B00009KLAE', 4519),\n ('B001TH7GUU', 4436),\n ('B000FNFSPY', 4421),\n ('B00FDUHD2K', 4384),\n ('B005LDLP8W', 4316),\n ('B006JH8T3S', 4005),\n ('B00JX1ZS5O', 3965),\n ('B00CD8AFFW', 3917),\n ('B0043WJRRS', 3824),\n ('B00LLEODCK', 3777),\n ('B009SYZ8OC', 3752),\n ('B009D79VH4', 3746),\n ('B0015DYMVO', 3679),\n ('B007WTAJTO', 3557),\n ('B006GWO5WK', 3549),\n ('B00GHY5JAO', 3521),\n ('B00OAJ412U', 3512),\n ('B00OBRE5UE', 3443),\n ('B00HVT170U', 3431),\n ('B005LJQMCK', 3409),\n ('B000VS4HDM', 3402),\n ('B010MS67ZG', 3323),\n ('B011WBI4S0', 3321),\n ('B005HMKKH4', 3314),\n ('B0143IIP4W', 3165),\n ('B001XURP8Q', 3150),\n ('B00DIFIM36', 3142),\n ('B005FYNSUA', 3133),\n ('B004OVECU0', 3132),\n ('B000JE7GPY', 3111),\n ('B004WODP20', 3095),\n ('B01DJL4DY0', 3083),\n ('B00BN0N0LW', 3082),\n ('B008GVOVK0', 3070),\n ('B00R1EPGRA', 3023),\n ('B001TH7GSW', 3015),\n ('B00IVPU786', 2978),\n ('B002HAJQGA', 2945),\n ('B008VQ8IKY', 2928),\n ('B00TIT3KYC', 2921),\n ('B00UA8ZUFW', 2920),\n ('B00W586H5W', 2920),\n ('B00BEWF4R2', 2913),\n ('B005LFT3QG', 2907),\n ('B00L3KO5WK', 2885),\n ('B00M55C1I2', 2872),\n ('B00B46XUQU', 2852),\n ('B00WS63GZK', 2840),\n ('B00APCMMEK', 2835),\n ('B00BUSDVBQ', 2824),\n ('B007Q45EF4', 2819),\n ('B00LIX177I', 2780),\n ('B00J8E8XT4', 2736),\n ('B0092ML0MY', 2721),\n ('B01BGTG41W', 2677),\n ('B00UZRVY12', 2649),\n ('B005EJH6RW', 2638),\n ('B00B588HY2', 2631),\n ('B00C28L6EW', 2601),\n ('B00E98O7GC', 2592),\n ('B00834SJNA', 2585),\n ('B00LP6CFEC', 2558),\n ('B000A6PPOK', 2556),\n ('B00A1ZTZZK', 2525),\n ('B00IF70T4M', 2520),\n ('B005LJQO9G', 2513),\n ('B000I5LACO', 2497),\n ('B00STP86CW', 2496),\n ('B0000BVYT3', 2489),\n ('B006QB1RPY', 2464),\n ('B002HWRJBM', 2421),\n ('B003XM9774', 2409),\n ('B007I5JT4S', 2407),\n ('B00DSUTX3O', 2390),\n ('B003LSTD38', 2386),\n ('B0001LR1KU', 2375),\n ('B0007M0VXM', 2367),\n ('B004XIOJ7A', 2360),\n ('B01DA0YCNC', 2344),\n ('B00KWR8ME2', 2312),\n ('B000FBK3QK', 2306),\n ('B009ZIILLI', 2305),\n ('B00FX6KO8Y', 2302),\n ('B00DX5D49S', 2279),\n ('B00BSVM3YG', 2257),\n ('B007FHX9OK', 2244),\n ('B008ABOJKS', 2233),\n ('B002SZEOLG', 2193),\n ('B005KWHJES', 2193),\n ('B003FVJYF8', 2186),\n ('B00ITIQI92', 2185),\n ('B004VC8M3K', 2175),\n ('B005DSPLDA', 2164),\n ('B009A5204K', 2160),\n ('B004RORMF6', 2153),\n ('B002MAPSC6', 2150),\n ('B013CCTM2E', 2131),\n ('B00JJ2C0S0', 2125),\n ('B00BEJ83MI', 2122),\n ('B00P7EVST6', 2105),\n ('B005J7YA4G', 2104),\n ('B00007E7JU', 2097),\n ('B0058UUR6E', 2082),\n ('B00W8XXRPM', 2045),\n ('B0002UPGOI', 2034),\n ('B00EL94Z4I', 2009),\n ('B000BTL0OA', 2006),\n ('B00E3W1726', 2000),\n ('B00XMD7KPU', 1999),\n ('B00EVVGAD0', 1998),\n ('B00WWBCQEI', 1982),\n ('B004QK7HI8', 1970),\n ('B00EEHNNNG', 1970),\n ('B007PJ4PN2', 1963),\n ('B0049SCB2Y', 1961),\n ('B00B2N7B60', 1947),\n ('B004ZGN6MY', 1935),\n ('B008LTBM6S', 1925),\n ('B0026ZPFCK', 1924),\n ('B00007M1TZ', 1913),\n ('B000IJY8DS', 1911),\n ('B00KYK2AKO', 1911),\n ('B00EM5UFP4', 1899),\n ('B008F4USMS', 1898),\n ('B00006B81E', 1889),\n ('B006LW0W5Y', 1885),\n ('B0049S6ZUS', 1881),\n ('B000067RC4', 1879),\n ('B005AOKW8Q', 1872),\n ('B00BIFNTMC', 1860),\n ('B003Y5RYNY', 1854),\n ('B00AWRUICG', 1853),\n ('B004YDUZ22', 1851),\n ('B0092KRAXY', 1844),\n ('B001UI4RTG', 1841),\n ('B009NLTW60', 1835),\n ('B00BCY1AA2', 1832),\n ('B00E8HGWIK', 1827),\n ('B009QQMEEY', 1821),\n ('B00LF10KTE', 1818),\n ('B0000BZL0U', 1806),\n ('B0049P6OTI', 1803),\n ('B006WAGG14', 1801),\n ('B00I0S6SK0', 1800),\n ('B014I8V0EO', 1799),\n ('B00WUIP7YO', 1795),\n ('B00CDS9EKE', 1794),\n ('B005CLPP84', 1791),\n ('B00B1862X4', 1778),\n ('B0002KVQBA', 1771),\n ('B00KFAGD88', 1771),\n ('B007NZGPAY', 1769),\n ('B003INFE16', 1764),\n ('B00B3P15M8', 1759),\n ('B004TS1J1S', 1758),\n ('B00MA5U1FW', 1751),\n ('B00KFD0SEA', 1748),\n ('B001W28L2Y', 1742),\n ('B00BZC31WQ', 1737),\n ('B003LPTAYI', 1733),\n ('B004I5BUSO', 1726),\n ('B00IRVQ0F8', 1725),\n ('B00J8DL78O', 1717),\n ('B001W26TIW', 1713),\n ('B00AWIPITS', 1713),\n ('B00004T8R2', 1707),\n ('B0080JH3YE', 1703),\n ('B002QEBMCI', 1682),\n ('B004LTEUDO', 1676),\n ('B00FB45SI4', 1675),\n ('B00DZ6R9GE', 1667),\n ('B00A8LN70Q', 1666),\n ('B007BJHETS', 1655),\n ('B007JR5304', 1650),\n ('B005WGEZ1C', 1649),\n ('B01C6ESQM6', 1645),\n ('B005LKB0IU', 1642),\n ('B0098Y77U0', 1638),\n ('B00S9SGNNS', 1626),\n ('B003TG75EG', 1623),\n ('B00EB7812C', 1619),\n ('B00UJ3IULO', 1617),\n ('B0063705PE', 1611),\n ('B006JINHYS', 1610),\n ('B001MSU1HG', 1605),\n ('B00017LSPI', 1602),\n ('B00AAIPT76', 1594),\n ('B003WGJYCY', 1591),\n ('B006U3O566', 1588),\n ('B005EOWBHC', 1586),\n ('B00OJ5WBUE', 1580),\n ('B000AA2RCY', 1578),\n ('B00FZHWFEW', 1575),\n ('B00HCMZ2AC', 1573),\n ('B005QX7KYU', 1553),\n ('B001C9P5TO', 1549),\n ('B000MX48VM', 1548),\n ('B000R9AAJA', 1547),\n ('B0013FRNKG', 1545),\n ('B013HNYVCE', 1538),\n ('B007GMPZ0A', 1536),\n ('B00E5I7VJG', 1534),\n ('B00UB9UJFQ', 1532),\n ('B008ZGKWQI', 1529),\n ('B0002H02ZY', 1528),\n ('B000ZH98LU', 1526),\n ('B0017JY5F4', 1525),\n ('B00FA4Y7N2', 1525),\n ('B00261HV2Q', 1522),\n ('B00RFLXCRK', 1520),\n ('B00F6S10KK', 1519),\n ('B00I4XMEYA', 1515),\n ('B0000668YX', 1507),\n ('B0040IUI46', 1505),\n ('B014I8T4MO', 1503),\n ('B00LS5NFQ2', 1502),\n ('B00BQ4F9ZA', 1501),\n ('B00NBEWB4U', 1496),\n ('B00B9996LA', 1495),\n ('B00H33SFJU', 1490),\n ('B000RSOV50', 1483),\n ('B000I23TTE', 1481),\n ('B00EZ9XKCM', 1480),\n ('B002DPUUL4', 1476),\n ('B0015M22C6', 1466),\n ('B000UXZQ42', 1460),\n ('B0043T7FHK', 1460),\n ('B004LEAYXY', 1458),\n ('B000ID7QNI', 1456),\n ('B001S2PPT0', 1454),\n ('B00066HP7Y', 1450),\n ('B0057OCDQS', 1444),\n ('B016XTADG2', 1444),\n ('B00NR2VMNC', 1442),\n ('B0056TYRMW', 1438),\n ('B008EPW1MI', 1438),\n ('B00N2S6W86', 1434),\n ('B005HQ514C', 1431),\n ('B00DBV28TG', 1430),\n ('B007OY5V68', 1428),\n ('B00KT7DOR0', 1425),\n ('B002BH3Z8E', 1417),\n ('B00B4GGW5Q', 1416),\n ('B00020S7XK', 1414),\n ('B005HXFARS', 1414),\n ('B00485CYRK', 1409),\n ('B001F42MKG', 1403),\n ('B00JEPIOOQ', 1402),\n ('B0053NBLFW', 1399),\n ('B000JMJWV2', 1397),\n ('B00LRYUJQS', 1397),\n ('B008LTBINU', 1396),\n ('B001Q9EFUK', 1388),\n ('B00P24XKS8', 1388),\n ('B0019804U8', 1387),\n ('B000J01I1G', 1385),\n ('B009NB8WRU', 1380),\n ('B00HY678O4', 1379),\n ('B007IV7KRU', 1377),\n ('B00007EDZG', 1373),\n ('B002RCNX8K', 1371),\n ('B004CJ8DNG', 1370),\n ('B008RZ0EQ0', 1370),\n ('B007P4VOWC', 1366),\n ('B000Q8UAWY', 1365),\n ('B009657UWQ', 1361),\n ('B00OJ3UJ2S', 1360),\n ('B002TLTGM6', 1350),\n ('B00D5GVMK8', 1348),\n ('B000WL6YY8', 1346),\n ('B00Q2VPI8A', 1345),\n ('B003CP0OT2', 1340),\n ('B015CH1JIW', 1339),\n ('B004Q3C98S', 1338),\n ('B004W2JL2A', 1336),\n ('B00CZ6FEG2', 1333),\n ('B00E362W9O', 1333),\n ('B00E3CHLLC', 1328),\n ('B001MSU1FS', 1326),\n ('B013CCTOC2', 1326),\n ('B000ULAP4U', 1322),\n ('B0012YLTR6', 1321),\n ('B004YAYM06', 1320),\n ('B01A89OEUY', 1317),\n ('B005DIRI6I', 1316),\n ('B00BT80QH4', 1316),\n ('B00KDZEWWO', 1315),\n ('B005FVNGS2', 1312),\n ('B00ODDEABK', 1310),\n ('B00EIQTOFY', 1309),\n ('B000LIFB7S', 1308),\n ('B0097BEFDG', 1308),\n ('B00062UW5A', 1307),\n ('B00063E2HS', 1307),\n ('B00N2VIALK', 1303),\n ('B0075XYS4E', 1302),\n ('B009LL9VDG', 1301),\n ('B00TP1BWMK', 1300),\n ('B00HFRWXQ0', 1299),\n ('B003XN24GY', 1298),\n ('B00CFL5CRI', 1298),\n ('B00M55BMKK', 1298),\n ('B00D6NLDJU', 1297),\n ('B017DYKCNA', 1297),\n ('B006ZT4VA0', 1296),\n ('B00SUX3XQC', 1296),\n ('B006T9B6R2', 1292),\n ('B008D6YZXG', 1290),\n ('B000WU2LXC', 1289),\n ('B004LB5AZY', 1288),\n ('B001V9KG0I', 1287),\n ('B0059KTEBC', 1287),\n ('B002NPCDDM', 1285),\n ('B00609B3J2', 1281),\n ('B004G605Q8', 1280),\n ('B00AXZWG8Q', 1275),\n ('B00NO73IN2', 1274),\n ('B00004ZCC1', 1273),\n ('B004Z4FBE2', 1270),\n ('B00DW374W4', 1270),\n ('B00W77CJTY', 1264),\n ('B00Y095HY6', 1263),\n ('B000OOYECC', 1262),\n ('B001DFTGR4', 1261),\n ('B00NNMB3KS', 1256),\n ('B00IDG3PRI', 1255),\n ('B00KGXOG9C', 1255),\n ('B00D0L5BH8', 1254),\n ('B001EPVOQY', 1252),\n ('B013QJ0W8Q', 1251),\n ('B00G9WHMCW', 1248),\n ('B001FA1O18', 1247),\n ('B009GUXU52', 1244),\n ('B003L1ZYZ6', 1243),\n ('B007H4VT7A', 1227),\n ('B00B99JUBQ', 1221),\n ('B000I68BD4', 1218),\n ('B00ESUIX4S', 1211),\n ('B005DOK8NW', 1210),\n ('B00MBFPT1W', 1210),\n ('B0051G5SD2', 1208),\n ('B00M48154Q', 1207),\n ('B00M55BS36', 1205),\n ('B0009Y7AW8', 1204),\n ('B00GZC35YK', 1203),\n ('B004G60AD6', 1201),\n ('B0096M8VR2', 1198),\n ('B01CD5VC92', 1197),\n ('B00IF4OATU', 1189),\n ('B001TH7GVO', 1188),\n ('B00DKXXAAQ', 1187),\n ('B003LVZO8S', 1183),\n ('B0007NWL70', 1176),\n ('B01DMHPT3U', 1175),\n ('B014EUQOGK', 1174),\n ('B001DHECXA', 1173),\n ('B015WCV70W', 1172),\n ('B00DYQYLQQ', 1170),\n ('B00EWCUK98', 1170),\n ('B00752QXZ2', 1169),\n ('B000WYVBR0', 1168),\n ('B00FO0IHMY', 1168),\n ('B016F3M7OM', 1168),\n ('B00C2AMK2M', 1167),\n ('B00AIRUOI8', 1165),\n ('B0007XJSQC', 1164),\n ('B005DEHVC8', 1163),\n ('B01F9RGWF0', 1163),\n ('B000FNR726', 1160),\n ('B002UVNW5W', 1160),\n ('B003AIL2HE', 1159),\n ('B00001P4ZH', 1158),\n ('B00CFLBU88', 1158),\n ('B004MF11MU', 1157),\n ('B00004Z5CP', 1152),\n ('B0018DQYQ2', 1151),\n ('B00QQ7SG48', 1151),\n ('B016PE1X5K', 1150),\n ('B0016OEV7C', 1149),\n ('B015JV4QHC', 1149),\n ('B00BW6KCW2', 1144),\n ('B00PLENYXK', 1143),\n ('B00LJT2EPK', 1137),\n ('B001QNBUA4', 1132),\n ('B00XOUCNH6', 1132),\n ('B0074FGNJ6', 1129),\n ('B013CP5IWO', 1127),\n ('B0003QIXBY', 1125),\n ('B00S9Q9VS4', 1123),\n ('B016HL4CAY', 1121),\n ('B0007T27HI', 1120),\n ('B00APPDX86', 1120),\n ('B0012Y2LLE', 1119),\n ('B00TP1C51M', 1118),\n ('B00UJ3IREE', 1118),\n ('B007B4UKOE', 1117),\n ('B00BQ5RYI4', 1117),\n ('B002VPE1Q6', 1116),\n ('B00CMKS2DI', 1116),\n ('B00TKFEEAS', 1116),\n ('B00007FGU7', 1115),\n ('B005Z5HT2M', 1115),\n ('B003RCEAB8', 1111),\n ('B004C9QSU6', 1111),\n ('B0065MCED8', 1109),\n ('B00AWKC0JM', 1109),\n ('B0049MPQA4', 1108),\n ('B00001WRSJ', 1104),\n ('B00009R6TA', 1102),\n ('B000CKVOOY', 1100),\n ('B001N7PANQ', 1100),\n ('B00FA4Y66U', 1100),\n ('B00CD1PTF0', 1094),\n ('B001NJO6AC', 1092),\n ('B00KF9IVKC', 1088),\n ('B00OR6T842', 1088),\n ('B001CQT0X4', 1087),\n ('B005CLPP8E', 1087),\n ('B011M8YACM', 1084),\n ('B009FC3YJ8', 1083),\n ('B00VUWP6EW', 1083),\n ('B0097JLQVC', 1082),\n ('B001L1H0SC', 1077),\n ('B00B7U6Q1E', 1077),\n ('B00HTPHK5W', 1076),\n ('B0052YFYFK', 1075),\n ('B008422IL0', 1074),\n ('B01GI93F76', 1074),\n ('B009W9BQMQ', 1073),\n ('B01FM3G9TU', 1073),\n ('B00BCMHZLC', 1068),\n ('B00ZSPXR8E', 1068),\n ('B0013CED4I', 1067),\n ('B000ZD0CV4', 1066),\n ('B01AHKYIRS', 1065),\n ('B005GZRUZW', 1064),\n ('B00F25Z0FS', 1064),\n ('B00PMMBBSG', 1064),\n ('B000W9DJ1Q', 1063),\n ('B007NZWF58', 1061),\n ('B00N1BRWLA', 1061),\n ('B00PJSIIES', 1061),\n ('B001MSS6CS', 1060),\n ('B00B4PJC9K', 1060),\n ('B00IYETYX8', 1060),\n ('B01DEMTOQ6', 1060),\n ('B004HKIB6E', 1058),\n ('B00UKV5YDW', 1058),\n ('B00YZF7PEU', 1058),\n ('B00CB7SJNK', 1057),\n ('B000F0ELOG', 1056),\n ('B011CS01P2', 1056),\n ('B00ZOI31K4', 1054),\n ('B001TOD7MY', 1052),\n ('B015YF5YIS', 1052),\n ('B0090UG55A', 1047),\n ('B00M7V0A32', 1046),\n ('B001CIREXA', 1044),\n ('B0030AZ44O', 1043),\n ('B005ARQV6U', 1042),\n ('B004AZ38Z0', 1039),\n ('B002BR6DF6', 1038),\n ('B00BCV1CEY', 1038),\n ('B00RBGYGPG', 1035),\n ('B00LHERVM8', 1033),\n ('B00INNP5VU', 1032),\n ('B00EB4ADQW', 1030),\n ('B00XI87KV8', 1029),\n ('B00193U3O0', 1027),\n ('B00DQ5RYP0', 1019),\n ('B00IVPU7DG', 1019),\n ('B00OFLMMK6', 1018),\n ('B000VM60I8', 1017),\n ('B000O8I474', 1016),\n ('B0036Q7MV0', 1015),\n ('B0007MXZB2', 1010),\n ('B004FHO5Y6', 1009),\n ('B00CGUMSXE', 1009),\n ('B00NI45AUU', 1008),\n ('B00OBRFFAS', 1006),\n ('B0013AV4M4', 1005),\n ('B0000510R4', 1004),\n ('B004CDI8MS', 1004),\n ('B00VDVCQ84', 1002),\n ('B000067RTB', 1001),\n ('B0002JFOKK', 1001),\n ('B0002JFN60', 1001),\n ('B005FJ7OF0', 999),\n ('B00HUB0ONK', 997),\n ('B00NMTXYN6', 997),\n ('B014ZQ07NE', 994),\n ('B00HV5KYSK', 991),\n ('B00M6XTUPU', 991),\n ('B00N38TQJC', 991),\n ('B000067S60', 988),\n ('B009A6CZYO', 988),\n ('B008PO76PK', 987),\n ('B00C7S2FRE', 985),\n ('B00NBR70A2', 983),\n ('B00SF6VSVG', 983),\n ('B00273Z9WM', 980),\n ('B002W3IXZW', 980),\n ('B00A3YN0Z0', 980),\n ('B00RQA6LQY', 979),\n ('B0027VT6V4', 978),\n ('B013CP5F90', 978),\n ('B001UI2FPE', 971),\n ('B00VWEK4IG', 971),\n ('B00022OBO2', 970),\n ('B003ZX8B2S', 970),\n ('B004CADY9I', 968),\n ('B00008Y0VN', 967),\n ('B0025VKUPW', 966),\n ('B00NQ9OQU2', 962),\n ('B0151RKYBG', 962),\n ('B00LX4RJXS', 961),\n ('B008B6ONXK', 960),\n ('B00V7N3ZUG', 959),\n ('B01E3SNO3E', 959),\n ('B0002K6XNQ', 958),\n ('B000M2UZBK', 958),\n ('B00NH12YN0', 958),\n ('B00BKEQBI0', 957),\n ('B000CRFOMK', 956),\n ('B0000AI0N1', 953),\n ('B003VAK1FA', 953),\n ('B00KPRWAX8', 953),\n ('B00MUTWLW4', 953),\n ('B004ASW73G', 950),\n ('B00G3TUL4C', 949),\n ('B00CQ35GYE', 948),\n ('B00DI89YAI', 948),\n ('B00PEPIWNI', 947),\n ('B0035B4LJM', 946),\n ('B00TPMEOYM', 946),\n ('B00M1NEUKK', 942),\n ('B0050K0E1U', 939),\n ('B004SY5O5K', 938),\n ('B00FNPD1VW', 937),\n ('B00NIYJF6U', 937),\n ('B00G6WDYPO', 936),\n ('B00XITMC9W', 936),\n ('B005DLDO4U', 933),\n ('B00GHUHMUS', 933),\n ('B004LSNF04', 932),\n ('B0002BEQJ8', 930),\n ('B00004SABB', 928),\n ('B002WP2QGM', 926),\n ('B0001FTVEK', 925),\n ('B001TIG36C', 925),\n ('B00EQT0YK2', 923),\n ('B00FQ6K7TC', 923),\n ('B00MEWRHP8', 921),\n ('B00BCWALHM', 919),\n ('B0044YPN0A', 918),\n ('B00829TIIQ', 918),\n ('B00XQNGMBO', 918),\n ('B001F51G16', 916),\n ('B004CAGDUA', 916),\n ('B005GTNZUM', 916),\n ('B004LNFJCQ', 915),\n ('B00E5NOXM4', 910),\n ('B00IX9ZDKC', 909),\n ('B00X8MRBCW', 909),\n ('B001QUA6RA', 908),\n ('B00WUIKWGM', 908),\n ('B0012S4APK', 906),\n ('B009ZN03AA', 906),\n ('B01G2O77VC', 906),\n ('B001E0JH5E', 905),\n ('B005KDYBIO', 904),\n ('B009S2CXSI', 904),\n ('B00I2ZBD1U', 904),\n ('B004VM1T5S', 903),\n ('B00IJ331WY', 902),\n ('B0011NVMO8', 901),\n ('B009LI7CEE', 901),\n ('B00MGEL8JU', 901),\n ('B00LS31KQG', 900),\n ('B000UZL0YU', 898),\n ('B00005ATMB', 897),\n ('B00452V66G', 897),\n ('B007F9XHAY', 897),\n ('B0029U2YSA', 896),\n ('B00D5GC78O', 896),\n ('B00IKC14OG', 896),\n ('B00JG02ZEY', 896),\n ('B001WB02Z4', 895),\n ('B00009KH63', 894),\n ('B003SGGG2Y', 894),\n ('B011KOQ8HS', 892),\n ('B002YU83YO', 891),\n ('B001UEBN42', 890),\n ('B0019X20R8', 889),\n ('B00H84WRK2', 889),\n ('B00NF2J6ZK', 889),\n ('B007R28B50', 888),\n ('B00E3W19MO', 888),\n ('B00E4RXC5K', 887),\n ('B00MWCJ8VQ', 887),\n ('B00WUI3BX8', 887),\n ('B007IMPMW4', 886),\n ('B007PJ4Q4A', 886),\n ('B004GUS4WG', 885),\n ('B005EZTUMU', 885),\n ('B00K35MU0K', 885),\n ('B00EEBS9O0', 883),\n ('B0000BYDKO', 882),\n ('B004G7D0EG', 881),\n ('B0097BEDTC', 880),\n ('B0098F5Y68', 880),\n ('B00Z81U3YY', 880),\n ('B001OORMVQ', 879),\n ('B00NW2JBYO', 876),\n ('B00P3NMVVU', 875),\n ('B00007AKCV', 874),\n ('B000SMVQK8', 874),\n ('B00N41UTWG', 874),\n ('B000NMFCIA', 873),\n ('B005H3Q5AE', 873),\n ('B00DZYEXPQ', 873),\n ('B0054JJ0QW', 872),\n ('B00N1O1NQW', 869),\n ('B004YAVF8I', 868),\n ('B00NO57AD8', 868),\n ('B000I97N0S', 866),\n ('B00I59VBH4', 865),\n ('B004YW7WCY', 864),\n ('B005CG2ATQ', 864),\n ('B00TB8XZOK', 864),\n ('B016NUTG5K', 863),\n ('B007KEZMX4', 862),\n ('B00005LEN4', 861),\n ('B00IVPU7KE', 860),\n ('B008R79SCY', 859),\n ('B00011KM3I', 858),\n ('B007FL6100', 856),\n ('B00176T9OY', 855),\n ('B004FVMKVC', 853),\n ('B00SL2TQ2C', 853),\n ('B00007E7C8', 850),\n ('B0041Q38QM', 849),\n ('B00OKT5H8C', 849),\n ('B00HVHOR2M', 848),\n ('B006U1YUZE', 847),\n ('B00QHLSKOE', 847),\n ('B000092TT0', 846),\n ('B00134BZP6', 845),\n ('B0058AH2US', 845),\n ('B000067O6L', 844),\n ('B000067O6B', 844),\n ('B004T33XXU', 844),\n ('B00009XVCZ', 843),\n ('B004C3HZCC', 843),\n ('B00B9DQ2QI', 843),\n ('B00E3W15P0', 843),\n ('B00F5NB7MW', 842),\n ('B0191XMBV2', 841),\n ('B00CDIK908', 840),\n ('B00RH29CJO', 840),\n ('B015XVAKG4', 838),\n ('B00DVFLJKQ', 837),\n ('B006P88VSE', 835),\n ('B00OHIKQDC', 835),\n ('B009CP4PIW', 834),\n ('B00WUI1BBM', 834),\n ('B00080G0BK', 833),\n ('B00109Y2DQ', 832),\n ('B00K4NVRRI', 832),\n ('B00BM2XL2O', 830),\n ('B0002SKHIK', 829),\n ('B006YLYYZ6', 829),\n ('B000065BPB', 827),\n ('B00J0BXPD4', 827),\n ('B005OOKNP4', 826),\n ('B00GIO69JI', 825),\n ('B00ICEWB58', 825),\n ('B00IHMFK44', 825),\n ('B00QC1207M', 825),\n ('B00BGGDVOO', 824),\n ('B00TGAJ9X4', 823),\n ('B004RKQMCY', 819),\n ('B00AB1ZB16', 819),\n ('B00B7GV802', 818),\n ('B000UO6C5S', 817),\n ('B005DPF08E', 816),\n ('B00F877VES', 816),\n ('B016XBGWAQ', 816),\n ('B00J4D3RTU', 815),\n ('B00TGIW1XG', 815),\n ('B00U82O92U', 815),\n ('B00EZSUWFG', 814),\n ('B00HSQAIQU', 814),\n ('B00D6LB1R6', 813),\n ('B00A6O8RXW', 812),\n ('B00NH13YHK', 811),\n ('B014JLNJSK', 811),\n ('B01729HG08', 811),\n ('B00N3ZPDSS', 810),\n ('B00X4JB97M', 810),\n ('B016PMVM7Q', 810),\n ('B00GM0OZ4O', 808),\n ('B004Y1AYAC', 807),\n ('B00O0KISQE', 807),\n ('B001B077PO', 805),\n ('B0070UKBO8', 805),\n ('B00006JN3G', 804),\n ('B017JEF126', 804),\n ('B000V7AF8E', 803),\n ('B00EN27TCI', 803),\n ('B00F19PYR4', 802),\n ('B00RBIC1IS', 801),\n ('B00V62XBQQ', 801),\n ('B008JCVGT0', 800),\n ('B013J7P7SK', 799),\n ('B01DOB6Y5Q', 799),\n ('B001423GZO', 798),\n ('B00E7B08MS', 797),\n ('B00TYFCJ8S', 796),\n ('B0036WTDHK', 795),\n ('B00ELCECKC', 795),\n ('B0046XAROG', 793),\n ('B00CD778LC', 793),\n ('B019393MV2', 793),\n ('B002EUCU3O', 792),\n ('B003SVSJ1K', 791),\n ('B004WYA852', 791),\n ('B005B0A6ZS', 791),\n ('B00B0RD2RA', 791),\n ('B00VMJEK2C', 790),\n ('B013CP3KZ6', 789),\n ('B0064EKNKI', 788),\n ('B00FEE7B1I', 788),\n ('B00R124LAK', 787),\n ('B00BF6HWFY', 785),\n ('B00FJILVDS', 784),\n ('B00HQY35SM', 784),\n ('B0015EDVVU', 782),\n ('B00FFV0C84', 782),\n ('B004AT03YK', 781),\n ('B00RFLGH5E', 781),\n ('B000F9YN2M', 780),\n ('B003VTZ070', 780),\n ('B00AVLOHJ8', 780),\n ('B00FPIMJEW', 779),\n ('B013CP3JDO', 778),\n ('B013HSW4N2', 777),\n ('B00IEYHMIM', 776),\n ('B002YETVXC', 774),\n ('B00KK4B37U', 774),\n ('B002HH0W5W', 773),\n ('B00O8RCMUM', 773),\n ('B00SMBG8QY', 773),\n ('B01BY3UYMK', 773),\n ('B00AWKC0EC', 772),\n ('B00FPAVUHC', 772),\n ('B004N8ZQKY', 770),\n ('B00J46VW9O', 770),\n ('B0029N3U8K', 768),\n ('B002LE8BJA', 768),\n ('B00SFSU53G', 768),\n ('B002UT42UI', 767),\n ('B012M8LXQW', 767),\n ('B00K91DB7Y', 766),\n ('B000062VUQ', 765),\n ('B000GDAX6W', 765),\n ('B005HSG3VK', 765),\n ('B00ATZJ606', 765),\n ('B0002BEQN4', 764),\n ('B005DIBHA6', 763),\n ('B00GBBSP6S', 763),\n ('B00JTV04QQ', 762),\n ('B00JKCH4X0', 761),\n ('B0002U1TJY', 760),\n ('B0002AHT0M', 758),\n ('B001NEK2GE', 757),\n ('B002B3YCQM', 757),\n ('B009Z3SXTS', 757),\n ('B00H4YGR48', 757),\n ('B0011TS8LM', 756),\n ('B00X4R9VBA', 756),\n ('B003Y3BJ7S', 755),\n ('B000HDJT4S', 754),\n ('B0079M711S', 754),\n ('B009HHY2TW', 754),\n ('B00BALK9CM', 754),\n ('B00002EQCW', 753),\n ('B001AQYJI2', 753),\n ('B00032CIJQ', 752),\n ('B0058I7CVE', 752),\n ('B00VBNQJLY', 752),\n ('B007SXJ26A', 751),\n ('B009QFKFWS', 751),\n ('B01AT6B0DK', 751),\n ('B001TZUS98', 750),\n ('B00JQTO8TU', 750),\n ('B00LN3LQKQ', 750),\n ('B00DLZVD7A', 749),\n ('B015Z7XE0A', 747),\n ('B007PLL4CK', 746),\n ('B009ZGK6QS', 746),\n ('B00NKZ5R28', 746),\n ('B000J1C0TO', 745),\n ('B00SMBFZNG', 745),\n ('B0092KZBD0', 744),\n ('B00DDULUIA', 744),\n ('B00F0IQTE8', 743),\n ('B000VCTQZ2', 742),\n ('B003XQAIKK', 742),\n ('B00B86IKXO', 742),\n ('B00CO1I2FS', 741),\n ('B00007GQLU', 740),\n ('B001EHNG36', 740),\n ('B005FO43OU', 740),\n ('B00112DQXO', 739),\n ('B00CBNG10C', 739),\n ('B00HRLUSRA', 739),\n ('B00IF0JAIU', 739),\n ('B01C7HXE2O', 739),\n ('B00FONBG1A', 738),\n ('B00008VF4A', 737),\n ('B0017KZ8Y0', 737),\n ('B00H7PBWK8', 737),\n ('B004CAJUCI', 736),\n ('B00AHS8LD8', 736),\n ('B00N1KXE9K', 736),\n ('B00XWPAJ1U', 736),\n ('B004U4XB62', 735),\n ('B005QXX0MG', 735),\n ('B00Q59EQ3C', 735),\n ('B00NH11KIK', 734),\n ('B005FHZ2SI', 731),\n ('B00E9MD700', 731),\n ('B005NGQWL2', 730),\n ('B00QRPPCMI', 730),\n ('B000X9O8SI', 729),\n ('B003UH0Z9Q', 729),\n ('B0092PZZLS', 729),\n ('B00104XCVO', 728),\n ('B006ZON7Y6', 728),\n ('B00WK47VEW', 728),\n ('B004CLYJ2I', 727),\n ('B008FH1PJA', 727),\n ('B00I0MKMG2', 727),\n ('B000Y9TZ9Y', 725),\n ('B00BCA40S0', 725),\n ('B00W77C2FA', 725),\n ('B006EWUO22', 724),\n ('B00D6XTMFC', 724),\n ('B013D2ULO6', 724),\n ('B005HPYGTO', 723),\n ('B00DR8LA60', 723),\n ('B012U3SEU2', 723),\n ('B00007EDM8', 722),\n ('B006ZS5ATM', 722),\n ('B00V49LNCU', 722),\n ('B00B46XKKQ', 721),\n ('B001T6K7G6', 720),\n ('B00461G3MS', 718),\n ('B001G1ZPV6', 717),\n ('B002OOWB3O', 717),\n ('B0043BF3AE', 717),\n ('B00QTE09SY', 717),\n ('B001TICH08', 716),\n ('B007PTCFFW', 716),\n ('B00FR795WA', 716),\n ('B0012Z3MKW', 715),\n ('B009EB21Q2', 715),\n ('B0027FGW3K', 714),\n ('B003OC6LWM', 714),\n ('B007F9XHBI', 713),\n ('B00WM7TRTY', 713),\n ('B003SQEAY0', 712),\n ('B004HT6TS2', 712),\n ('B00T2U7R7I', 712),\n ('B016I3T3CI', 712),\n ('B005HJWWW8', 711),\n ('B00519BEQY', 710),\n ('B00S5V5PEC', 710),\n ('B0000510ZO', 709),\n ('B0083YIGVU', 709),\n ('B004N6259G', 708),\n ('B004S50WPG', 707),\n ('B000EVSLRO', 706),\n ('B000RZQZM0', 706),\n ('B005VAORH6', 706),\n ('B000P1OA1O', 705),\n ('B00F5JV4NS', 705),\n ('B001UE6MIO', 704),\n ('B00IF70QCW', 704),\n ('B00093IIRA', 703),\n ('B00P31BMHG', 703),\n ('B004IV8Y50', 702),\n ('B00825BZUY', 702),\n ('B00UFBZOKK', 702),\n ('B00UVWUBKQ', 702),\n ('B00006B7DA', 701),\n ('B00009V2YV', 701),\n ('B00JDVRCI0', 701),\n ('B000067SOH', 699),\n ('B00EUY59Z8', 698),\n ('B00WSLZFTK', 698),\n ('B00XNMXJ0A', 698),\n ('B002TLT10I', 697),\n ('B009CCOI9Q', 697),\n ('B00CTUIT20', 697),\n ('B00VFW9TOK', 697),\n ('B01054S5FM', 697),\n ('B0062IPIPQ', 696),\n ('B004NY9UW8', 695),\n ('B004XXMUCQ', 695),\n ('B004Q72PEM', 694),\n ('B00DI89IQS', 694),\n ('B00P20TFWM', 694),\n ('B00Z56JVI6', 694),\n ('B00004Z5M1', 691),\n ('B00E5OUOCQ', 691),\n ('B0063K4NN6', 690),\n ('B01C6Q2GSY', 690),\n ('B001FY0B90', 689),\n ('B002QAUN2M', 689),\n ('B00B7FOQCK', 689),\n ('B0041OSQB6', 688),\n ('B005LFT3MA', 688),\n ('B007BZOGLG', 688),\n ('B004RDWVUS', 687),\n ('B000VZS2EU', 686),\n ('B000V0BIWI', 684),\n ('B00DIHVM36', 684),\n ('B0046RDR5I', 683),\n ('B008DVMRXG', 683),\n ('B00VE6QULC', 683),\n ('B018TX8IDA', 683),\n ('B005N3TPJQ', 682),\n ('B008PQJWC8', 682),\n ('B00NXOMA8A', 682),\n ('B0158AZOHU', 682),\n ('B005E7KMH0', 681),\n ('B008VMPOB4', 681),\n ('B009BV4V4K', 681),\n ('B00X0PCBT0', 681),\n ('B00ZGUZJ32', 681),\n ('B0045KGZOG', 680),\n ('B00FG7N7RA', 680),\n ('B00UYL7LIY', 679),\n ('B007B6YPAM', 678),\n ('B00FYWCL2E', 677),\n ('B00AQ9CF8K', 675),\n ('B00XKU47Y2', 675),\n ('B0002CPBWS', 674),\n ('B0011U65F2', 674),\n ('B00R4O9LXM', 674),\n ('B00VNW598W', 674),\n ('B0002CZHN6', 673),\n ('B004U7JYXS', 673),\n ('B007PRHNHO', 672),\n ('B00FDLAUQA', 672),\n ('B00GKKI4Q6', 672),\n ('B0163H2B9G', 672),\n ('B003WM2N94', 671),\n ('B00DBX37H6', 671),\n ('B01G26R7LA', 671),\n ('B000Q7V0W4', 670),\n ('B000HJ99DI', 669),\n ('B002WE0QN8', 669),\n ('B0031GELEG', 668),\n ('B00IAYFDJG', 668),\n ('B00MITLPX2', 668),\n ('B00T9QONN6', 666),\n ('B018APC50Y', 666),\n ('B0015A8Y5M', 665),\n ('B001F7AHY6', 664),\n ('B00RPWO3W2', 664),\n ('B015PRO512', 664),\n ('B00R4YCKIK', 663),\n ('B006TT91TW', 662),\n ('B00S8GU2OC', 661),\n ('B0099SMFVQ', 660),\n ('B009ISU33E', 660),\n ('B00ISIG6PY', 660),\n ...]"
          },
          "metadata": {}
        }
      ],
      "execution_count": 28,
      "metadata": {}
    },
    {
      "cell_type": "code",
      "source": [
        "# Remove product that has reviews less than particular number\n",
        "\n",
        "def remove_least_r_product(dataframe,atleast_r):\n",
        "    l = Counter(dataframe['asin'])\n",
        "    n = []\n",
        "    for i in l.keys():\n",
        "        if l[i] < atleast_r:\n",
        "            n.append(i)\n",
        "    dataframe = dataframe[~dataframe['asin'].isin(n)]\n",
        "    dataframe.reset_index(drop=True, inplace=True)\n",
        "    return dataframe"
      ],
      "outputs": [],
      "execution_count": 29,
      "metadata": {}
    },
    {
      "cell_type": "code",
      "source": [
        "df.shape"
      ],
      "outputs": [
        {
          "output_type": "execute_result",
          "execution_count": 30,
          "data": {
            "text/plain": "(6532419, 5)"
          },
          "metadata": {}
        }
      ],
      "execution_count": 30,
      "metadata": {}
    },
    {
      "cell_type": "code",
      "source": [
        "sample = df.sample(n = 100000) "
      ],
      "outputs": [],
      "execution_count": 31,
      "metadata": {}
    },
    {
      "cell_type": "code",
      "source": [
        "dff = remove_least_r_product(sample.copy(),10)"
      ],
      "outputs": [],
      "execution_count": 32,
      "metadata": {}
    },
    {
      "cell_type": "code",
      "source": [
        "dff.shape"
      ],
      "outputs": [
        {
          "output_type": "execute_result",
          "execution_count": 33,
          "data": {
            "text/plain": "(23653, 5)"
          },
          "metadata": {}
        }
      ],
      "execution_count": 33,
      "metadata": {
        "scrolled": true
      }
    },
    {
      "cell_type": "code",
      "source": [
        "dff.head(10)"
      ],
      "outputs": [
        {
          "output_type": "execute_result",
          "execution_count": 34,
          "data": {
            "text/html": "<div>\n<style scoped>\n    .dataframe tbody tr th:only-of-type {\n        vertical-align: middle;\n    }\n\n    .dataframe tbody tr th {\n        vertical-align: top;\n    }\n\n    .dataframe thead th {\n        text-align: right;\n    }\n</style>\n<table border=\"1\" class=\"dataframe\">\n  <thead>\n    <tr style=\"text-align: right;\">\n      <th></th>\n      <th>asin</th>\n      <th>overall</th>\n      <th>reviewerID</th>\n      <th>reviewerName</th>\n      <th>verified</th>\n    </tr>\n  </thead>\n  <tbody>\n    <tr>\n      <th>0</th>\n      <td>B004N8ZQKY</td>\n      <td>5.0</td>\n      <td>AR3P81AXNO234</td>\n      <td>M. irving</td>\n      <td>True</td>\n    </tr>\n    <tr>\n      <th>1</th>\n      <td>B00I0S6SK0</td>\n      <td>4.0</td>\n      <td>A2T7R0FCAJL7EK</td>\n      <td>A.C.</td>\n      <td>True</td>\n    </tr>\n    <tr>\n      <th>2</th>\n      <td>B001URGQY6</td>\n      <td>5.0</td>\n      <td>A3PEQDXTZ0G6XK</td>\n      <td>ZeroSeVen</td>\n      <td>True</td>\n    </tr>\n    <tr>\n      <th>3</th>\n      <td>B00E055H5O</td>\n      <td>4.0</td>\n      <td>A3ERJ7FB674XYG</td>\n      <td>Nick</td>\n      <td>True</td>\n    </tr>\n    <tr>\n      <th>4</th>\n      <td>B005CLPP84</td>\n      <td>4.0</td>\n      <td>A16K3CQY7RP7LH</td>\n      <td>Greg Noll</td>\n      <td>True</td>\n    </tr>\n    <tr>\n      <th>5</th>\n      <td>B000A6PPOK</td>\n      <td>5.0</td>\n      <td>A17N1KUYDNIFC3</td>\n      <td>jsquared</td>\n      <td>True</td>\n    </tr>\n    <tr>\n      <th>6</th>\n      <td>B00BALK9CM</td>\n      <td>5.0</td>\n      <td>A3SLQ8ZJFW4GAF</td>\n      <td>Travis Bolt</td>\n      <td>True</td>\n    </tr>\n    <tr>\n      <th>7</th>\n      <td>B0063705PE</td>\n      <td>1.0</td>\n      <td>A3PM0FMRJIYLPB</td>\n      <td>Diane</td>\n      <td>True</td>\n    </tr>\n    <tr>\n      <th>8</th>\n      <td>B00GKKI4Q6</td>\n      <td>3.0</td>\n      <td>A1B129G514XGJ0</td>\n      <td>TerisaD</td>\n      <td>True</td>\n    </tr>\n    <tr>\n      <th>9</th>\n      <td>B000I23TTE</td>\n      <td>4.0</td>\n      <td>A1IDTGQR0RKR55</td>\n      <td>John V Magisano</td>\n      <td>True</td>\n    </tr>\n  </tbody>\n</table>\n</div>",
            "text/plain": "         asin  overall      reviewerID     reviewerName  verified\n0  B004N8ZQKY      5.0   AR3P81AXNO234        M. irving      True\n1  B00I0S6SK0      4.0  A2T7R0FCAJL7EK             A.C.      True\n2  B001URGQY6      5.0  A3PEQDXTZ0G6XK        ZeroSeVen      True\n3  B00E055H5O      4.0  A3ERJ7FB674XYG             Nick      True\n4  B005CLPP84      4.0  A16K3CQY7RP7LH        Greg Noll      True\n5  B000A6PPOK      5.0  A17N1KUYDNIFC3         jsquared      True\n6  B00BALK9CM      5.0  A3SLQ8ZJFW4GAF      Travis Bolt      True\n7  B0063705PE      1.0  A3PM0FMRJIYLPB            Diane      True\n8  B00GKKI4Q6      3.0  A1B129G514XGJ0          TerisaD      True\n9  B000I23TTE      4.0  A1IDTGQR0RKR55  John V Magisano      True"
          },
          "metadata": {}
        }
      ],
      "execution_count": 34,
      "metadata": {
        "scrolled": true
      }
    },
    {
      "cell_type": "code",
      "source": [],
      "outputs": [],
      "execution_count": null,
      "metadata": {}
    },
    {
      "cell_type": "code",
      "source": [],
      "outputs": [],
      "execution_count": null,
      "metadata": {}
    },
    {
      "cell_type": "code",
      "source": [
        "# Collaborative Filtering"
      ],
      "outputs": [],
      "execution_count": 1,
      "metadata": {}
    },
    {
      "cell_type": "code",
      "source": [
        "###########################################################################################################################"
      ],
      "outputs": [],
      "execution_count": 42,
      "metadata": {}
    },
    {
      "cell_type": "code",
      "source": [
        "dff[(dff['reviewerID'] == 'A3LXXYBYUHZWS5') & (dff['asin'] == '0511189877')]"
      ],
      "outputs": [
        {
          "output_type": "execute_result",
          "execution_count": 56,
          "data": {
            "text/html": "<div>\n<style scoped>\n    .dataframe tbody tr th:only-of-type {\n        vertical-align: middle;\n    }\n\n    .dataframe tbody tr th {\n        vertical-align: top;\n    }\n\n    .dataframe thead th {\n        text-align: right;\n    }\n</style>\n<table border=\"1\" class=\"dataframe\">\n  <thead>\n    <tr style=\"text-align: right;\">\n      <th></th>\n      <th>asin</th>\n      <th>overall</th>\n      <th>reviewerID</th>\n      <th>reviewerName</th>\n      <th>verified</th>\n    </tr>\n  </thead>\n  <tbody>\n  </tbody>\n</table>\n</div>",
            "text/plain": "Empty DataFrame\nColumns: [asin, overall, reviewerID, reviewerName, verified]\nIndex: []"
          },
          "metadata": {}
        }
      ],
      "execution_count": 56,
      "metadata": {
        "scrolled": true
      }
    },
    {
      "cell_type": "code",
      "source": [
        "# So user 'A3LXXYBYUHZWS5' has not given any rating to product '0511189877'\n",
        "\n",
        "# Lets predict the rating of product '0511189877' given by user 'A3LXXYBYUHZWS5'"
      ],
      "outputs": [],
      "execution_count": 57,
      "metadata": {}
    },
    {
      "cell_type": "code",
      "source": [],
      "outputs": [],
      "execution_count": null,
      "metadata": {}
    },
    {
      "cell_type": "code",
      "source": [
        "#########################################################################################################################"
      ],
      "outputs": [],
      "execution_count": 39,
      "metadata": {}
    },
    {
      "cell_type": "code",
      "source": [
        "import pandas as pd\n",
        "from surprise import Reader\n",
        "from surprise import Dataset\n",
        "from surprise.model_selection import cross_validate\n",
        "from surprise import NormalPredictor\n",
        "from surprise import KNNBasic\n",
        "from surprise import KNNWithMeans\n",
        "from surprise import KNNWithZScore\n",
        "from surprise import KNNBaseline\n",
        "from surprise import SVD\n",
        "from surprise import BaselineOnly\n",
        "from surprise import SVDpp\n",
        "from surprise import NMF\n",
        "from surprise import SlopeOne\n",
        "from surprise import CoClustering\n",
        "from surprise.accuracy import rmse\n",
        "from surprise import accuracy\n",
        "from surprise.model_selection import train_test_split\n",
        "from surprise.model_selection import GridSearchCV"
      ],
      "outputs": [],
      "execution_count": 47,
      "metadata": {}
    },
    {
      "cell_type": "code",
      "source": [
        "reader = Reader(rating_scale=(1,5))\n",
        "data = Dataset.load_from_df(dff[[\"reviewerID\", \"asin\", \"overall\"]], reader)"
      ],
      "outputs": [],
      "execution_count": 55,
      "metadata": {}
    },
    {
      "cell_type": "code",
      "source": [
        "##########################################################"
      ],
      "outputs": [],
      "execution_count": 45,
      "metadata": {}
    },
    {
      "cell_type": "code",
      "source": [
        "benchmark = []\n",
        "# Iterate over all algorithms\n",
        "for algorithm in [SVD(), SVDpp(), SlopeOne(), NMF(), NormalPredictor(), KNNBaseline(), KNNBasic(), KNNWithMeans(), KNNWithZScore(), BaselineOnly(), CoClustering()]:\n",
        "    # Perform cross validation\n",
        "    results = cross_validate(algorithm, data, measures=['RMSE'], cv=3, verbose=False)\n",
        "    \n",
        "    # Get results & append algorithm name\n",
        "    tmp = pd.DataFrame.from_dict(results).mean(axis=0)\n",
        "    tmp = tmp.append(pd.Series([str(algorithm).split(' ')[0].split('.')[-1]], index=['Algorithm']))\n",
        "    benchmark.append(tmp)\n",
        "    \n",
        "pd.DataFrame(benchmark).set_index('Algorithm').sort_values('test_rmse')"
      ],
      "outputs": [
        {
          "output_type": "stream",
          "name": "stdout",
          "text": [
            "Estimating biases using als...\n",
            "Computing the msd similarity matrix...\n",
            "Done computing similarity matrix.\n",
            "Estimating biases using als...\n",
            "Computing the msd similarity matrix...\n",
            "Done computing similarity matrix.\n",
            "Estimating biases using als...\n",
            "Computing the msd similarity matrix...\n",
            "Done computing similarity matrix.\n",
            "Computing the msd similarity matrix...\n",
            "Done computing similarity matrix.\n",
            "Computing the msd similarity matrix...\n",
            "Done computing similarity matrix.\n",
            "Computing the msd similarity matrix...\n",
            "Done computing similarity matrix.\n",
            "Computing the msd similarity matrix...\n",
            "Done computing similarity matrix.\n",
            "Computing the msd similarity matrix...\n",
            "Done computing similarity matrix.\n",
            "Computing the msd similarity matrix...\n",
            "Done computing similarity matrix.\n",
            "Computing the msd similarity matrix...\n",
            "Done computing similarity matrix.\n",
            "Computing the msd similarity matrix...\n",
            "Done computing similarity matrix.\n",
            "Computing the msd similarity matrix...\n",
            "Done computing similarity matrix.\n",
            "Estimating biases using als...\n",
            "Estimating biases using als...\n",
            "Estimating biases using als...\n"
          ]
        },
        {
          "output_type": "execute_result",
          "execution_count": 51,
          "data": {
            "text/html": "<div>\n<style scoped>\n    .dataframe tbody tr th:only-of-type {\n        vertical-align: middle;\n    }\n\n    .dataframe tbody tr th {\n        vertical-align: top;\n    }\n\n    .dataframe thead th {\n        text-align: right;\n    }\n</style>\n<table border=\"1\" class=\"dataframe\">\n  <thead>\n    <tr style=\"text-align: right;\">\n      <th></th>\n      <th>test_rmse</th>\n      <th>fit_time</th>\n      <th>test_time</th>\n    </tr>\n    <tr>\n      <th>Algorithm</th>\n      <th></th>\n      <th></th>\n      <th></th>\n    </tr>\n  </thead>\n  <tbody>\n    <tr>\n      <th>SVDpp</th>\n      <td>1.081491</td>\n      <td>3.266554</td>\n      <td>0.102890</td>\n    </tr>\n    <tr>\n      <th>BaselineOnly</th>\n      <td>1.081865</td>\n      <td>0.145634</td>\n      <td>0.168137</td>\n    </tr>\n    <tr>\n      <th>SVD</th>\n      <td>1.082293</td>\n      <td>1.542222</td>\n      <td>0.115838</td>\n    </tr>\n    <tr>\n      <th>KNNBaseline</th>\n      <td>1.083377</td>\n      <td>9.487720</td>\n      <td>0.176845</td>\n    </tr>\n    <tr>\n      <th>KNNBasic</th>\n      <td>1.100555</td>\n      <td>9.471471</td>\n      <td>0.150602</td>\n    </tr>\n    <tr>\n      <th>KNNWithZScore</th>\n      <td>1.107142</td>\n      <td>13.452598</td>\n      <td>0.268510</td>\n    </tr>\n    <tr>\n      <th>SlopeOne</th>\n      <td>1.108329</td>\n      <td>0.295514</td>\n      <td>0.078623</td>\n    </tr>\n    <tr>\n      <th>KNNWithMeans</th>\n      <td>1.108397</td>\n      <td>9.793786</td>\n      <td>0.086872</td>\n    </tr>\n    <tr>\n      <th>CoClustering</th>\n      <td>1.109817</td>\n      <td>5.667947</td>\n      <td>0.104899</td>\n    </tr>\n    <tr>\n      <th>NMF</th>\n      <td>1.118467</td>\n      <td>4.216863</td>\n      <td>0.061743</td>\n    </tr>\n    <tr>\n      <th>NormalPredictor</th>\n      <td>1.389798</td>\n      <td>0.061005</td>\n      <td>0.174467</td>\n    </tr>\n  </tbody>\n</table>\n</div>",
            "text/plain": "                 test_rmse   fit_time  test_time\nAlgorithm                                       \nSVDpp             1.081491   3.266554   0.102890\nBaselineOnly      1.081865   0.145634   0.168137\nSVD               1.082293   1.542222   0.115838\nKNNBaseline       1.083377   9.487720   0.176845\nKNNBasic          1.100555   9.471471   0.150602\nKNNWithZScore     1.107142  13.452598   0.268510\nSlopeOne          1.108329   0.295514   0.078623\nKNNWithMeans      1.108397   9.793786   0.086872\nCoClustering      1.109817   5.667947   0.104899\nNMF               1.118467   4.216863   0.061743\nNormalPredictor   1.389798   0.061005   0.174467"
          },
          "metadata": {}
        }
      ],
      "execution_count": 51,
      "metadata": {}
    },
    {
      "cell_type": "code",
      "source": [
        "# We will go with SVD"
      ],
      "outputs": [],
      "execution_count": 52,
      "metadata": {}
    },
    {
      "cell_type": "code",
      "source": [
        "trainset, testset = train_test_split(data, test_size=0.25)\n",
        "algo = SVD()\n",
        "predictions = algo.fit(trainset).test(testset)\n",
        "accuracy.rmse(predictions)"
      ],
      "outputs": [
        {
          "output_type": "stream",
          "name": "stdout",
          "text": [
            "RMSE: 1.0970\n"
          ]
        },
        {
          "output_type": "execute_result",
          "execution_count": 53,
          "data": {
            "text/plain": "1.0969764085305087"
          },
          "metadata": {}
        }
      ],
      "execution_count": 53,
      "metadata": {}
    },
    {
      "cell_type": "code",
      "source": [
        "preds = algo.predict('A3LXXYBYUHZWS5', '0511189877')\n",
        "preds.est"
      ],
      "outputs": [
        {
          "output_type": "execute_result",
          "execution_count": 54,
          "data": {
            "text/plain": "4.4177236597327925"
          },
          "metadata": {}
        }
      ],
      "execution_count": 54,
      "metadata": {}
    },
    {
      "cell_type": "code",
      "source": [
        "Check_preds = algo.predict('A3LXXYBYUHZWS5', '0446697192')\n",
        "Check_preds.est"
      ],
      "outputs": [
        {
          "output_type": "execute_result",
          "execution_count": 55,
          "data": {
            "text/plain": "4.4177236597327925"
          },
          "metadata": {}
        }
      ],
      "execution_count": 55,
      "metadata": {}
    },
    {
      "cell_type": "code",
      "source": [],
      "outputs": [],
      "execution_count": null,
      "metadata": {}
    },
    {
      "cell_type": "code",
      "source": [],
      "outputs": [],
      "execution_count": null,
      "metadata": {}
    },
    {
      "cell_type": "code",
      "source": [
        "###########################################################################################################################"
      ],
      "outputs": [],
      "execution_count": 43,
      "metadata": {}
    },
    {
      "cell_type": "code",
      "source": [],
      "outputs": [],
      "execution_count": null,
      "metadata": {}
    },
    {
      "cell_type": "code",
      "source": [
        "reader = Reader(rating_scale=(1,5))\n",
        "data = Dataset.load_from_df(dff[[\"reviewerID\", \"asin\", \"overall\"]], reader)"
      ],
      "outputs": [],
      "execution_count": 35,
      "metadata": {}
    },
    {
      "cell_type": "code",
      "source": [
        "from surprise import KNNWithMeans"
      ],
      "outputs": [],
      "execution_count": 36,
      "metadata": {}
    },
    {
      "cell_type": "code",
      "source": [
        "sim_options = {\n",
        "    \"name\": \"cosine\",\n",
        "    \"user_based\": True,  # Compute  similarities between items\n",
        "}\n",
        "algo = KNNWithMeans(sim_options=sim_options)"
      ],
      "outputs": [],
      "execution_count": 37,
      "metadata": {}
    },
    {
      "cell_type": "code",
      "source": [
        "trainset, testset = train_test_split(data, test_size=0.25)\n",
        "predictions = algo.fit(trainset).test(testset)\n",
        "accuracy.rmse(predictions)"
      ],
      "outputs": [
        {
          "output_type": "stream",
          "name": "stdout",
          "text": [
            "Computing the cosine similarity matrix...\n",
            "Done computing similarity matrix.\n",
            "RMSE: 1.1137\n"
          ]
        },
        {
          "output_type": "execute_result",
          "execution_count": 40,
          "data": {
            "text/plain": "1.1137380766079155"
          },
          "metadata": {}
        }
      ],
      "execution_count": 40,
      "metadata": {}
    },
    {
      "cell_type": "code",
      "source": [],
      "outputs": [],
      "execution_count": null,
      "metadata": {}
    },
    {
      "cell_type": "code",
      "source": [],
      "outputs": [],
      "execution_count": 42,
      "metadata": {}
    },
    {
      "cell_type": "code",
      "source": [
        "sim_options = {\n",
        "    \"name\": [\"msd\", \"cosine\"],\n",
        "    \"min_support\": [3, 4, 5],\n",
        "    \"user_based\": [False, True],\n",
        "}\n",
        "\n",
        "param_grid = {\"sim_options\": sim_options}\n",
        "\n",
        "gs = GridSearchCV(KNNWithMeans, param_grid, measures=[\"rmse\", \"mae\"], cv=3)\n",
        "gs.fit(data)\n",
        "\n",
        "print(gs.best_score[\"rmse\"])\n",
        "print(gs.best_params[\"rmse\"])"
      ],
      "outputs": [
        {
          "output_type": "stream",
          "name": "stdout",
          "text": [
            "Computing the msd similarity matrix...\n",
            "Done computing similarity matrix.\n",
            "Computing the msd similarity matrix...\n",
            "Done computing similarity matrix.\n",
            "Computing the msd similarity matrix...\n",
            "Done computing similarity matrix.\n",
            "Computing the msd similarity matrix...\n",
            "Done computing similarity matrix.\n",
            "Computing the msd similarity matrix...\n",
            "Done computing similarity matrix.\n",
            "Computing the msd similarity matrix...\n",
            "Done computing similarity matrix.\n",
            "Computing the msd similarity matrix...\n",
            "Done computing similarity matrix.\n",
            "Computing the msd similarity matrix...\n",
            "Done computing similarity matrix.\n",
            "Computing the msd similarity matrix...\n",
            "Done computing similarity matrix.\n",
            "Computing the msd similarity matrix...\n",
            "Done computing similarity matrix.\n",
            "Computing the msd similarity matrix...\n",
            "Done computing similarity matrix.\n",
            "Computing the msd similarity matrix...\n",
            "Done computing similarity matrix.\n",
            "Computing the msd similarity matrix...\n",
            "Done computing similarity matrix.\n",
            "Computing the msd similarity matrix...\n",
            "Done computing similarity matrix.\n",
            "Computing the msd similarity matrix...\n",
            "Done computing similarity matrix.\n",
            "Computing the msd similarity matrix...\n",
            "Done computing similarity matrix.\n",
            "Computing the msd similarity matrix...\n",
            "Done computing similarity matrix.\n",
            "Computing the msd similarity matrix...\n",
            "Done computing similarity matrix.\n",
            "Computing the cosine similarity matrix...\n",
            "Done computing similarity matrix.\n",
            "Computing the cosine similarity matrix...\n",
            "Done computing similarity matrix.\n",
            "Computing the cosine similarity matrix...\n",
            "Done computing similarity matrix.\n",
            "Computing the cosine similarity matrix...\n",
            "Done computing similarity matrix.\n",
            "Computing the cosine similarity matrix...\n",
            "Done computing similarity matrix.\n",
            "Computing the cosine similarity matrix...\n",
            "Done computing similarity matrix.\n",
            "Computing the cosine similarity matrix...\n",
            "Done computing similarity matrix.\n",
            "Computing the cosine similarity matrix...\n",
            "Done computing similarity matrix.\n",
            "Computing the cosine similarity matrix...\n",
            "Done computing similarity matrix.\n",
            "Computing the cosine similarity matrix...\n",
            "Done computing similarity matrix.\n",
            "Computing the cosine similarity matrix...\n",
            "Done computing similarity matrix.\n",
            "Computing the cosine similarity matrix...\n",
            "Done computing similarity matrix.\n",
            "Computing the cosine similarity matrix...\n",
            "Done computing similarity matrix.\n",
            "Computing the cosine similarity matrix...\n",
            "Done computing similarity matrix.\n",
            "Computing the cosine similarity matrix...\n",
            "Done computing similarity matrix.\n",
            "Computing the cosine similarity matrix...\n",
            "Done computing similarity matrix.\n",
            "Computing the cosine similarity matrix...\n",
            "Done computing similarity matrix.\n",
            "Computing the cosine similarity matrix...\n",
            "Done computing similarity matrix.\n",
            "1.1009550792447758\n",
            "{'sim_options': {'name': 'msd', 'min_support': 3, 'user_based': False}}\n"
          ]
        }
      ],
      "execution_count": 43,
      "metadata": {}
    },
    {
      "cell_type": "code",
      "source": [],
      "outputs": [],
      "execution_count": null,
      "metadata": {}
    },
    {
      "cell_type": "code",
      "source": [
        "param_grid = {\n",
        "    \"n_epochs\": [5, 10],\n",
        "    \"lr_all\": [0.002, 0.005],\n",
        "    \"reg_all\": [0.4, 0.6]\n",
        "}\n",
        "gs = GridSearchCV(SVD, param_grid, measures=[\"rmse\", \"mae\"], cv=3)\n",
        "\n",
        "gs.fit(data)\n",
        "\n",
        "print(gs.best_score[\"rmse\"])\n",
        "print(gs.best_params[\"rmse\"])"
      ],
      "outputs": [
        {
          "output_type": "stream",
          "name": "stdout",
          "text": [
            "1.082168777392648\n",
            "{'n_epochs': 10, 'lr_all': 0.005, 'reg_all': 0.4}\n"
          ]
        }
      ],
      "execution_count": 44,
      "metadata": {}
    },
    {
      "cell_type": "code",
      "source": [],
      "outputs": [],
      "execution_count": null,
      "metadata": {}
    }
  ],
  "metadata": {
    "kernelspec": {
      "display_name": "Python 3",
      "language": "python",
      "name": "python3"
    },
    "language_info": {
      "codemirror_mode": {
        "name": "ipython",
        "version": 3
      },
      "file_extension": ".py",
      "mimetype": "text/x-python",
      "name": "python",
      "nbconvert_exporter": "python",
      "pygments_lexer": "ipython3",
      "version": "3.7.3"
    },
    "nteract": {
      "version": "0.27.0"
    }
  },
  "nbformat": 4,
  "nbformat_minor": 2
}