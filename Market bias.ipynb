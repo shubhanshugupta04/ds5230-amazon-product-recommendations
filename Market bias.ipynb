{
  "nbformat": 4,
  "nbformat_minor": 0,
  "metadata": {
    "colab": {
      "name": "Main.ipynb",
      "provenance": []
    },
    "kernelspec": {
      "name": "python3",
      "display_name": "Python 3"
    }
  },
  "cells": [
    {
      "cell_type": "markdown",
      "metadata": {
        "id": "B1sZC2U5E_D5"
      },
      "source": [
        "# Measuring Market Bias"
      ]
    },
    {
      "cell_type": "markdown",
      "metadata": {
        "id": "ic6VgQT-FJGn"
      },
      "source": [
        "## Utility Functions"
      ]
    },
    {
      "cell_type": "code",
      "metadata": {
        "colab": {
          "base_uri": "https://localhost:8080/",
          "height": 17
        },
        "id": "QNJLFZaXQn0X",
        "outputId": "7d7feb9d-a795-430f-f9bc-459348aa4050"
      },
      "source": [
        "from PIL import Image\n",
        "import requests\n",
        "from io import BytesIO\n",
        "import matplotlib.pyplot as plt\n",
        "import numpy as np\n",
        "import pandas as pd\n",
        "import warnings\n",
        "from bs4 import BeautifulSoup\n",
        "from nltk.corpus import stopwords\n",
        "from nltk.tokenize import word_tokenize\n",
        "import nltk\n",
        "import tensorflow as tf\n",
        "import sys\n",
        "import math\n",
        "import time\n",
        "import re\n",
        "import os\n",
        "import seaborn as sns\n",
        "from collections import Counter\n",
        "from sklearn.feature_extraction.text import CountVectorizer\n",
        "from sklearn.feature_extraction.text import TfidfVectorizer\n",
        "from sklearn.metrics.pairwise import cosine_similarity  \n",
        "from sklearn.metrics import pairwise_distances\n",
        "from matplotlib import gridspec\n",
        "from scipy.sparse import hstack\n",
        "import plotly\n",
        "import plotly.figure_factory as ff\n",
        "from plotly.graph_objs import Scatter, Layout\n",
        "import os\n",
        "import json\n",
        "import gzip\n",
        "from urllib.request import urlopen\n",
        "from matplotlib import rc\n",
        "from scipy.stats import chi2_contingency, ttest_ind, ttest_rel, f_oneway\n",
        "%matplotlib inline\n",
        "import statsmodels.api as sm\n",
        "from statsmodels.formula.api import ols\n",
        "rc('pdf', fonttype=42)\n",
        "\n",
        "plotly.offline.init_notebook_mode(connected=True)\n",
        "warnings.filterwarnings(\"ignore\")"
      ],
      "execution_count": null,
      "outputs": [
        {
          "output_type": "display_data",
          "data": {
            "text/html": [
              "        <script type=\"text/javascript\">\n",
              "        window.PlotlyConfig = {MathJaxConfig: 'local'};\n",
              "        if (window.MathJax) {MathJax.Hub.Config({SVG: {font: \"STIX-Web\"}});}\n",
              "        if (typeof require !== 'undefined') {\n",
              "        require.undef(\"plotly\");\n",
              "        requirejs.config({\n",
              "            paths: {\n",
              "                'plotly': ['https://cdn.plot.ly/plotly-latest.min']\n",
              "            }\n",
              "        });\n",
              "        require(['plotly'], function(Plotly) {\n",
              "            window._Plotly = Plotly;\n",
              "        });\n",
              "        }\n",
              "        </script>\n",
              "        "
            ]
          },
          "metadata": {
            "tags": []
          }
        }
      ]
    },
    {
      "cell_type": "code",
      "metadata": {
        "id": "b86DKiBzG_8R"
      },
      "source": [
        "def contingency_table(df_review, columns=[]):\n",
        "    tab = pd.crosstab(df_review['model_attr'], df_review['user_attr'], margins=True)\n",
        "    if len(columns)>0:\n",
        "        tab = tab[columns]\n",
        "    print('contingency table')\n",
        "    display(tab)\n",
        "    tab = df_review.groupby(['model_attr', 'user_attr'])['rating'].size().unstack()\n",
        "    if len(columns)>1:\n",
        "        tab = tab[columns[:-1]]\n",
        "    g, p, dof, expected = chi2_contingency(tab.values)\n",
        "    print('chi2', g.round(3), 'p-value', p.round(3))\n",
        "    print('')\n",
        "    print('real market size - expected market size')\n",
        "    display((tab-expected).round(2))"
      ],
      "execution_count": null,
      "outputs": []
    },
    {
      "cell_type": "code",
      "metadata": {
        "id": "BXqnXvusHXho"
      },
      "source": [
        "def two_way_anova(df_review, metric):\n",
        "    test3 = sm.stats.anova_lm(ols(metric+' ~ model_attr*user_attr', data=df_review).fit()).values[:3,-2:]\n",
        "    df = pd.DataFrame(test3, columns=['F-stat', 'p-value'], index=['product', 'user', 'product:user'])\n",
        "    display(df.round(3))\n",
        "    return df"
      ],
      "execution_count": null,
      "outputs": []
    },
    {
      "cell_type": "code",
      "metadata": {
        "id": "-atVQ759Hf0L"
      },
      "source": [
        "def plot_avg_by_segment(df_review, metric, figsize, index=[], dataset='', dump=True):\n",
        "    fig = plt.figure(figsize=figsize)\n",
        "    group_rating = df_review.groupby(['user_attr', 'model_attr'])[metric].mean().unstack()\n",
        "    group_std = 1.96*df_review.groupby(['user_attr', 'model_attr'])[metric].sem().unstack()\n",
        "    if len(index)>0:\n",
        "        group_rating = group_rating.loc[index]\n",
        "    group_rating.index = group_rating.index.rename('user identity')\n",
        "    group_rating.columns = group_rating.columns.rename('product image')\n",
        "    text = []\n",
        "    for ri in range(group_rating.shape[0]):\n",
        "        row = []\n",
        "        for ci in range(group_rating.shape[1]):\n",
        "            row.append(str(group_rating.values[ri, ci].round(2))+'\\n('+r'$\\pm$'+str(group_std.values[ri, ci].round(2))+')')\n",
        "        text.append(row)\n",
        "    text = np.array(text)\n",
        "    \n",
        "    sns.heatmap(group_rating, annot=text, fmt='s', cmap=\"YlGnBu\", annot_kws={\"size\": 13},\n",
        "                cbar=False)\n",
        "    if dump:\n",
        "        fig.savefig('./plot/'+dataset+'_'+metric+'_heatmap.pdf', bbox_inches='tight')"
      ],
      "execution_count": null,
      "outputs": []
    },
    {
      "cell_type": "markdown",
      "metadata": {
        "id": "hGm0pFDSGuBr"
      },
      "source": [
        "## Exploratory Data Analysis"
      ]
    },
    {
      "cell_type": "code",
      "metadata": {
        "id": "nCGQ_X0bOoMn",
        "colab": {
          "base_uri": "https://localhost:8080/",
          "height": 711
        },
        "outputId": "1d3bbb48-dcec-4dd2-9823-5e9a2414d2c9"
      },
      "source": [
        "df_review = pd.read_csv(\"df_electronics.csv\")\n",
        "df_review['timestamp'] = pd.to_datetime(df_review['timestamp'])\n",
        "df_review"
      ],
      "execution_count": null,
      "outputs": [
        {
          "output_type": "execute_result",
          "data": {
            "text/html": [
              "<div>\n",
              "<style scoped>\n",
              "    .dataframe tbody tr th:only-of-type {\n",
              "        vertical-align: middle;\n",
              "    }\n",
              "\n",
              "    .dataframe tbody tr th {\n",
              "        vertical-align: top;\n",
              "    }\n",
              "\n",
              "    .dataframe thead th {\n",
              "        text-align: right;\n",
              "    }\n",
              "</style>\n",
              "<table border=\"1\" class=\"dataframe\">\n",
              "  <thead>\n",
              "    <tr style=\"text-align: right;\">\n",
              "      <th></th>\n",
              "      <th>item_id</th>\n",
              "      <th>user_id</th>\n",
              "      <th>rating</th>\n",
              "      <th>timestamp</th>\n",
              "      <th>model_attr</th>\n",
              "      <th>category</th>\n",
              "      <th>brand</th>\n",
              "      <th>year</th>\n",
              "      <th>user_attr</th>\n",
              "      <th>split</th>\n",
              "    </tr>\n",
              "  </thead>\n",
              "  <tbody>\n",
              "    <tr>\n",
              "      <th>0</th>\n",
              "      <td>0</td>\n",
              "      <td>0</td>\n",
              "      <td>5.0</td>\n",
              "      <td>1999-06-13</td>\n",
              "      <td>Female</td>\n",
              "      <td>Portable Audio &amp; Video</td>\n",
              "      <td>NaN</td>\n",
              "      <td>1999</td>\n",
              "      <td>NaN</td>\n",
              "      <td>0</td>\n",
              "    </tr>\n",
              "    <tr>\n",
              "      <th>1</th>\n",
              "      <td>0</td>\n",
              "      <td>1</td>\n",
              "      <td>5.0</td>\n",
              "      <td>1999-06-14</td>\n",
              "      <td>Female</td>\n",
              "      <td>Portable Audio &amp; Video</td>\n",
              "      <td>NaN</td>\n",
              "      <td>1999</td>\n",
              "      <td>NaN</td>\n",
              "      <td>0</td>\n",
              "    </tr>\n",
              "    <tr>\n",
              "      <th>2</th>\n",
              "      <td>0</td>\n",
              "      <td>2</td>\n",
              "      <td>3.0</td>\n",
              "      <td>1999-06-17</td>\n",
              "      <td>Female</td>\n",
              "      <td>Portable Audio &amp; Video</td>\n",
              "      <td>NaN</td>\n",
              "      <td>1999</td>\n",
              "      <td>NaN</td>\n",
              "      <td>0</td>\n",
              "    </tr>\n",
              "    <tr>\n",
              "      <th>3</th>\n",
              "      <td>0</td>\n",
              "      <td>3</td>\n",
              "      <td>1.0</td>\n",
              "      <td>1999-07-01</td>\n",
              "      <td>Female</td>\n",
              "      <td>Portable Audio &amp; Video</td>\n",
              "      <td>NaN</td>\n",
              "      <td>1999</td>\n",
              "      <td>NaN</td>\n",
              "      <td>0</td>\n",
              "    </tr>\n",
              "    <tr>\n",
              "      <th>4</th>\n",
              "      <td>0</td>\n",
              "      <td>4</td>\n",
              "      <td>2.0</td>\n",
              "      <td>1999-07-06</td>\n",
              "      <td>Female</td>\n",
              "      <td>Portable Audio &amp; Video</td>\n",
              "      <td>NaN</td>\n",
              "      <td>1999</td>\n",
              "      <td>NaN</td>\n",
              "      <td>0</td>\n",
              "    </tr>\n",
              "    <tr>\n",
              "      <th>...</th>\n",
              "      <td>...</td>\n",
              "      <td>...</td>\n",
              "      <td>...</td>\n",
              "      <td>...</td>\n",
              "      <td>...</td>\n",
              "      <td>...</td>\n",
              "      <td>...</td>\n",
              "      <td>...</td>\n",
              "      <td>...</td>\n",
              "      <td>...</td>\n",
              "    </tr>\n",
              "    <tr>\n",
              "      <th>1292949</th>\n",
              "      <td>9478</td>\n",
              "      <td>1157628</td>\n",
              "      <td>1.0</td>\n",
              "      <td>2018-09-26</td>\n",
              "      <td>Female</td>\n",
              "      <td>Headphones</td>\n",
              "      <td>Etre Jeune</td>\n",
              "      <td>2017</td>\n",
              "      <td>NaN</td>\n",
              "      <td>0</td>\n",
              "    </tr>\n",
              "    <tr>\n",
              "      <th>1292950</th>\n",
              "      <td>9435</td>\n",
              "      <td>1157629</td>\n",
              "      <td>5.0</td>\n",
              "      <td>2018-09-26</td>\n",
              "      <td>Female</td>\n",
              "      <td>Computers &amp; Accessories</td>\n",
              "      <td>NaN</td>\n",
              "      <td>2017</td>\n",
              "      <td>NaN</td>\n",
              "      <td>0</td>\n",
              "    </tr>\n",
              "    <tr>\n",
              "      <th>1292951</th>\n",
              "      <td>9305</td>\n",
              "      <td>1157630</td>\n",
              "      <td>3.0</td>\n",
              "      <td>2018-09-26</td>\n",
              "      <td>Female</td>\n",
              "      <td>Computers &amp; Accessories</td>\n",
              "      <td>NaN</td>\n",
              "      <td>2016</td>\n",
              "      <td>NaN</td>\n",
              "      <td>0</td>\n",
              "    </tr>\n",
              "    <tr>\n",
              "      <th>1292952</th>\n",
              "      <td>9303</td>\n",
              "      <td>1157631</td>\n",
              "      <td>5.0</td>\n",
              "      <td>2018-09-29</td>\n",
              "      <td>Male</td>\n",
              "      <td>Headphones</td>\n",
              "      <td>NaN</td>\n",
              "      <td>2018</td>\n",
              "      <td>NaN</td>\n",
              "      <td>0</td>\n",
              "    </tr>\n",
              "    <tr>\n",
              "      <th>1292953</th>\n",
              "      <td>9478</td>\n",
              "      <td>1157632</td>\n",
              "      <td>1.0</td>\n",
              "      <td>2018-10-01</td>\n",
              "      <td>Female</td>\n",
              "      <td>Headphones</td>\n",
              "      <td>Etre Jeune</td>\n",
              "      <td>2017</td>\n",
              "      <td>Female</td>\n",
              "      <td>0</td>\n",
              "    </tr>\n",
              "  </tbody>\n",
              "</table>\n",
              "<p>1292954 rows × 10 columns</p>\n",
              "</div>"
            ],
            "text/plain": [
              "         item_id  user_id  rating  timestamp  ...       brand  year user_attr  split\n",
              "0              0        0     5.0 1999-06-13  ...         NaN  1999       NaN      0\n",
              "1              0        1     5.0 1999-06-14  ...         NaN  1999       NaN      0\n",
              "2              0        2     3.0 1999-06-17  ...         NaN  1999       NaN      0\n",
              "3              0        3     1.0 1999-07-01  ...         NaN  1999       NaN      0\n",
              "4              0        4     2.0 1999-07-06  ...         NaN  1999       NaN      0\n",
              "...          ...      ...     ...        ...  ...         ...   ...       ...    ...\n",
              "1292949     9478  1157628     1.0 2018-09-26  ...  Etre Jeune  2017       NaN      0\n",
              "1292950     9435  1157629     5.0 2018-09-26  ...         NaN  2017       NaN      0\n",
              "1292951     9305  1157630     3.0 2018-09-26  ...         NaN  2016       NaN      0\n",
              "1292952     9303  1157631     5.0 2018-09-29  ...         NaN  2018       NaN      0\n",
              "1292953     9478  1157632     1.0 2018-10-01  ...  Etre Jeune  2017    Female      0\n",
              "\n",
              "[1292954 rows x 10 columns]"
            ]
          },
          "metadata": {
            "tags": []
          },
          "execution_count": 9
        }
      ]
    },
    {
      "cell_type": "markdown",
      "metadata": {
        "id": "6G23pGU0Gjdt"
      },
      "source": [
        "### Product Selection vs Marketing Bias"
      ]
    },
    {
      "cell_type": "markdown",
      "metadata": {
        "id": "53144_NwIHWz"
      },
      "source": [
        "#### Chi2 test of contingency table"
      ]
    },
    {
      "cell_type": "code",
      "metadata": {
        "colab": {
          "base_uri": "https://localhost:8080/",
          "height": 428
        },
        "id": "CyQ_a1pbCh-R",
        "outputId": "89f517fc-685b-46d6-fe4f-ee8a96c562b1"
      },
      "source": [
        "contingency_table(df_review)"
      ],
      "execution_count": null,
      "outputs": [
        {
          "output_type": "stream",
          "text": [
            "contingency table\n"
          ],
          "name": "stdout"
        },
        {
          "output_type": "display_data",
          "data": {
            "text/html": [
              "<div>\n",
              "<style scoped>\n",
              "    .dataframe tbody tr th:only-of-type {\n",
              "        vertical-align: middle;\n",
              "    }\n",
              "\n",
              "    .dataframe tbody tr th {\n",
              "        vertical-align: top;\n",
              "    }\n",
              "\n",
              "    .dataframe thead th {\n",
              "        text-align: right;\n",
              "    }\n",
              "</style>\n",
              "<table border=\"1\" class=\"dataframe\">\n",
              "  <thead>\n",
              "    <tr style=\"text-align: right;\">\n",
              "      <th>user_attr</th>\n",
              "      <th>Female</th>\n",
              "      <th>Male</th>\n",
              "      <th>All</th>\n",
              "    </tr>\n",
              "    <tr>\n",
              "      <th>model_attr</th>\n",
              "      <th></th>\n",
              "      <th></th>\n",
              "      <th></th>\n",
              "    </tr>\n",
              "  </thead>\n",
              "  <tbody>\n",
              "    <tr>\n",
              "      <th>Female</th>\n",
              "      <td>34259</td>\n",
              "      <td>31587</td>\n",
              "      <td>65846</td>\n",
              "    </tr>\n",
              "    <tr>\n",
              "      <th>Female&amp;Male</th>\n",
              "      <td>26478</td>\n",
              "      <td>24930</td>\n",
              "      <td>51408</td>\n",
              "    </tr>\n",
              "    <tr>\n",
              "      <th>Male</th>\n",
              "      <td>25963</td>\n",
              "      <td>30907</td>\n",
              "      <td>56870</td>\n",
              "    </tr>\n",
              "    <tr>\n",
              "      <th>All</th>\n",
              "      <td>86700</td>\n",
              "      <td>87424</td>\n",
              "      <td>174124</td>\n",
              "    </tr>\n",
              "  </tbody>\n",
              "</table>\n",
              "</div>"
            ],
            "text/plain": [
              "user_attr    Female   Male     All\n",
              "model_attr                        \n",
              "Female        34259  31587   65846\n",
              "Female&Male   26478  24930   51408\n",
              "Male          25963  30907   56870\n",
              "All           86700  87424  174124"
            ]
          },
          "metadata": {
            "tags": []
          }
        },
        {
          "output_type": "stream",
          "text": [
            "chi2 581.849 p-value 0.0\n",
            "\n",
            "real market size - expected market size\n"
          ],
          "name": "stdout"
        },
        {
          "output_type": "display_data",
          "data": {
            "text/html": [
              "<div>\n",
              "<style scoped>\n",
              "    .dataframe tbody tr th:only-of-type {\n",
              "        vertical-align: middle;\n",
              "    }\n",
              "\n",
              "    .dataframe tbody tr th {\n",
              "        vertical-align: top;\n",
              "    }\n",
              "\n",
              "    .dataframe thead th {\n",
              "        text-align: right;\n",
              "    }\n",
              "</style>\n",
              "<table border=\"1\" class=\"dataframe\">\n",
              "  <thead>\n",
              "    <tr style=\"text-align: right;\">\n",
              "      <th>user_attr</th>\n",
              "      <th>Female</th>\n",
              "      <th>Male</th>\n",
              "    </tr>\n",
              "    <tr>\n",
              "      <th>model_attr</th>\n",
              "      <th></th>\n",
              "      <th></th>\n",
              "    </tr>\n",
              "  </thead>\n",
              "  <tbody>\n",
              "    <tr>\n",
              "      <th>Female</th>\n",
              "      <td>1472.89</td>\n",
              "      <td>-1472.89</td>\n",
              "    </tr>\n",
              "    <tr>\n",
              "      <th>Female&amp;Male</th>\n",
              "      <td>880.88</td>\n",
              "      <td>-880.88</td>\n",
              "    </tr>\n",
              "    <tr>\n",
              "      <th>Male</th>\n",
              "      <td>-2353.77</td>\n",
              "      <td>2353.77</td>\n",
              "    </tr>\n",
              "  </tbody>\n",
              "</table>\n",
              "</div>"
            ],
            "text/plain": [
              "user_attr     Female     Male\n",
              "model_attr                   \n",
              "Female       1472.89 -1472.89\n",
              "Female&Male   880.88  -880.88\n",
              "Male        -2353.77  2353.77"
            ]
          },
          "metadata": {
            "tags": []
          }
        }
      ]
    },
    {
      "cell_type": "markdown",
      "metadata": {
        "id": "4gQnr6jEIR6L"
      },
      "source": [
        "### Consumer Satisfaction vs Marketing Bias"
      ]
    },
    {
      "cell_type": "markdown",
      "metadata": {
        "id": "cTIRKEWbIW0r"
      },
      "source": [
        "#### Two-way ANOVA"
      ]
    },
    {
      "cell_type": "code",
      "metadata": {
        "colab": {
          "base_uri": "https://localhost:8080/",
          "height": 296
        },
        "id": "1bHGQy9DIUYe",
        "outputId": "862358ce-e0d9-43b1-f92d-692c97948303"
      },
      "source": [
        "_ = two_way_anova(df_review, 'rating')\n",
        "plot_avg_by_segment(df_review, 'rating', (3.2,2), [], 'electronics', dump=False)"
      ],
      "execution_count": null,
      "outputs": [
        {
          "output_type": "display_data",
          "data": {
            "text/html": [
              "<div>\n",
              "<style scoped>\n",
              "    .dataframe tbody tr th:only-of-type {\n",
              "        vertical-align: middle;\n",
              "    }\n",
              "\n",
              "    .dataframe tbody tr th {\n",
              "        vertical-align: top;\n",
              "    }\n",
              "\n",
              "    .dataframe thead th {\n",
              "        text-align: right;\n",
              "    }\n",
              "</style>\n",
              "<table border=\"1\" class=\"dataframe\">\n",
              "  <thead>\n",
              "    <tr style=\"text-align: right;\">\n",
              "      <th></th>\n",
              "      <th>F-stat</th>\n",
              "      <th>p-value</th>\n",
              "    </tr>\n",
              "  </thead>\n",
              "  <tbody>\n",
              "    <tr>\n",
              "      <th>product</th>\n",
              "      <td>62.581</td>\n",
              "      <td>0.000</td>\n",
              "    </tr>\n",
              "    <tr>\n",
              "      <th>user</th>\n",
              "      <td>3.508</td>\n",
              "      <td>0.061</td>\n",
              "    </tr>\n",
              "    <tr>\n",
              "      <th>product:user</th>\n",
              "      <td>0.907</td>\n",
              "      <td>0.404</td>\n",
              "    </tr>\n",
              "  </tbody>\n",
              "</table>\n",
              "</div>"
            ],
            "text/plain": [
              "              F-stat  p-value\n",
              "product       62.581    0.000\n",
              "user           3.508    0.061\n",
              "product:user   0.907    0.404"
            ]
          },
          "metadata": {
            "tags": []
          }
        },
        {
          "output_type": "display_data",
          "data": {
            "image/png": "[encoded data removed]",
            "text/plain": [
              "<Figure size 230.4x144 with 1 Axes>"
            ]
          },
          "metadata": {
            "tags": [],
            "needs_background": "light"
          }
        }
      ]
    },
    {
      "cell_type": "markdown",
      "metadata": {
        "id": "axAHlCziI0Ng"
      },
      "source": [
        "## Recommendation Model"
      ]
    },
    {
      "cell_type": "code",
      "metadata": {
        "id": "hsZopOFbSP7B"
      },
      "source": [
        ""
      ],
      "execution_count": null,
      "outputs": []
    }
  ]
}